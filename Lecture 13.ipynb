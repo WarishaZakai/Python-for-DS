{
 "cells": [
  {
   "cell_type": "code",
   "execution_count": null,
   "metadata": {},
   "outputs": [
    {
     "name": "stdout",
     "output_type": "stream",
     "text": [
      "apple\n",
      "cat\n",
      "13\n",
      "[1, 2, 3, 4]\n"
     ]
    }
   ],
   "source": [
    "list = ['apple','cat',13,[1,2,3,4]]\n",
    "for x in list:\n",
    "    print(x)\n",
    "    "
   ]
  },
  {
   "cell_type": "code",
   "execution_count": 2,
   "metadata": {},
   "outputs": [
    {
     "name": "stdout",
     "output_type": "stream",
     "text": [
      "['apple', 'cat', 13, [1, 2, 3, 4]]\n"
     ]
    }
   ],
   "source": [
    "if list == []:\n",
    "    print(\"Empty list\")\n",
    "else:\n",
    "    print(list)"
   ]
  },
  {
   "cell_type": "code",
   "execution_count": 12,
   "metadata": {},
   "outputs": [
    {
     "name": "stdout",
     "output_type": "stream",
     "text": [
      "1\n",
      "121\n",
      "12321\n"
     ]
    }
   ],
   "source": [
    "rows = int(input('Enter number of rows'))\n",
    "for i in range(1,rows+1):\n",
    "    for j in range(1,i+1):\n",
    "        print(j,end='')\n",
    "    for k in range(i-1,0,-1):\n",
    "        print(k,end='')\n",
    "    print()\n"
   ]
  },
  {
   "cell_type": "code",
   "execution_count": 15,
   "metadata": {},
   "outputs": [],
   "source": [
    "def welcome():\n",
    "    print(\"Good Morning, Have a nice day\")"
   ]
  },
  {
   "cell_type": "code",
   "execution_count": 16,
   "metadata": {},
   "outputs": [
    {
     "name": "stdout",
     "output_type": "stream",
     "text": [
      "Good Morning, Have a nice day\n"
     ]
    }
   ],
   "source": [
    "welcome()"
   ]
  },
  {
   "cell_type": "code",
   "execution_count": null,
   "metadata": {},
   "outputs": [
    {
     "name": "stdout",
     "output_type": "stream",
     "text": [
      "Good Morning Warisha have a nice day\n"
     ]
    }
   ],
   "source": [
    "def welcome(name):\n",
    "    print(\"Good Morning\",name, \"have a nice day\")\n",
    "welcome(\"Warisha\")"
   ]
  },
  {
   "cell_type": "code",
   "execution_count": 19,
   "metadata": {},
   "outputs": [
    {
     "name": "stdout",
     "output_type": "stream",
     "text": [
      "Good Morning Warisha have a nice day\n"
     ]
    }
   ],
   "source": [
    "def welcome(name):\n",
    "    print(\"Good Morning\",name, \"have a nice day\")\n",
    "name = input(\"Enter your name: \")\n",
    "welcome(name)"
   ]
  },
  {
   "cell_type": "code",
   "execution_count": 2,
   "metadata": {},
   "outputs": [
    {
     "name": "stdout",
     "output_type": "stream",
     "text": [
      "Number 1:  2\n",
      "Number 2:  3\n",
      "5\n"
     ]
    }
   ],
   "source": [
    "def add(num1, num2):\n",
    "    print(\"Number 1: \", num1)\n",
    "    print(\"Number 2: \", num2)\n",
    "    addition = num1 + num2\n",
    "    return num1 + num2\n",
    "num1 = int(input(\"Enter number 1\"))\n",
    "num2 = int(input(\"Enter number 2\"))\n",
    "sum = add(num1,num2)\n",
    "print(sum)"
   ]
  },
  {
   "cell_type": "code",
   "execution_count": 8,
   "metadata": {},
   "outputs": [
    {
     "name": "stdout",
     "output_type": "stream",
     "text": [
      "Number is even\n"
     ]
    }
   ],
   "source": [
    "def num_even(num):\n",
    "  if num % 2 == 0:\n",
    "      print(\"Number is even\")\n",
    "  else:\n",
    "      print(\"Number is odd\")\n",
    "num = int(input(\"Enter a number\"))\n",
    "num_even(num)\n"
   ]
  },
  {
   "cell_type": "code",
   "execution_count": 10,
   "metadata": {},
   "outputs": [
    {
     "data": {
      "text/plain": [
       "(3632.152, 213.656)"
      ]
     },
     "execution_count": 10,
     "metadata": {},
     "output_type": "execute_result"
    }
   ],
   "source": [
    "def circle(r):\n",
    "    pi = 3.142\n",
    "    area_of_circle = pi * (r**2)\n",
    "    circumference_of_circle = 2 * pi * r\n",
    "    return area_of_circle, circumference_of_circle\n",
    "radius = float(input(\"Enter radius of circle\"))\n",
    "circle(radius)\n"
   ]
  }
 ],
 "metadata": {
  "kernelspec": {
   "display_name": "Python 3",
   "language": "python",
   "name": "python3"
  },
  "language_info": {
   "codemirror_mode": {
    "name": "ipython",
    "version": 3
   },
   "file_extension": ".py",
   "mimetype": "text/x-python",
   "name": "python",
   "nbconvert_exporter": "python",
   "pygments_lexer": "ipython3",
   "version": "3.8.8"
  }
 },
 "nbformat": 4,
 "nbformat_minor": 2
}
