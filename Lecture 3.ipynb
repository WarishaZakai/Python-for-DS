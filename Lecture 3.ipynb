{
 "cells": [
  {
   "cell_type": "code",
   "execution_count": 1,
   "metadata": {},
   "outputs": [
    {
     "name": "stdout",
     "output_type": "stream",
     "text": [
      "True\n"
     ]
    }
   ],
   "source": [
    "number1 = float(input(\"Enter number1\"))\n",
    "number2 = float(input(\"Enter number2\"))\n",
    "number3 = float(input(\"Enter number3\"))\n",
    "print(number1>number2>number3)"
   ]
  },
  {
   "cell_type": "code",
   "execution_count": 6,
   "metadata": {},
   "outputs": [
    {
     "data": {
      "text/plain": [
       "False"
      ]
     },
     "execution_count": 6,
     "metadata": {},
     "output_type": "execute_result"
    }
   ],
   "source": [
    "number1 = True\n",
    "number2 = False\n",
    "number2 and number1"
   ]
  },
  {
   "cell_type": "code",
   "execution_count": 7,
   "metadata": {},
   "outputs": [
    {
     "data": {
      "text/plain": [
       "True"
      ]
     },
     "execution_count": 7,
     "metadata": {},
     "output_type": "execute_result"
    }
   ],
   "source": [
    "number2 or number1"
   ]
  },
  {
   "cell_type": "code",
   "execution_count": 9,
   "metadata": {},
   "outputs": [
    {
     "data": {
      "text/plain": [
       "True"
      ]
     },
     "execution_count": 9,
     "metadata": {},
     "output_type": "execute_result"
    }
   ],
   "source": [
    "not number2"
   ]
  },
  {
   "cell_type": "code",
   "execution_count": 14,
   "metadata": {},
   "outputs": [
    {
     "name": "stdout",
     "output_type": "stream",
     "text": [
      "The result of of 2 inputs of AND gate is  True\n"
     ]
    }
   ],
   "source": [
    "number1 = bool(input(\"Enter first booleon input\"))\n",
    "number2 = bool(input(\"Enter second booleon input\"))\n",
    "print(\"The result of of 2 inputs of AND gate is \", number1 and number2)"
   ]
  },
  {
   "cell_type": "code",
   "execution_count": 16,
   "metadata": {},
   "outputs": [
    {
     "data": {
      "text/plain": [
       "'python'"
      ]
     },
     "execution_count": 16,
     "metadata": {},
     "output_type": "execute_result"
    }
   ],
   "source": [
    "a = ''\n",
    "b = 'python'\n",
    "a and b\n",
    "a or b"
   ]
  },
  {
   "cell_type": "code",
   "execution_count": 19,
   "metadata": {},
   "outputs": [
    {
     "name": "stdout",
     "output_type": "stream",
     "text": [
      "15\n"
     ]
    }
   ],
   "source": [
    "number = 10\n",
    "number+=5\n",
    "print(number)\n"
   ]
  },
  {
   "cell_type": "code",
   "execution_count": 20,
   "metadata": {},
   "outputs": [
    {
     "name": "stdout",
     "output_type": "stream",
     "text": [
      "b = a:  15\n",
      "b += a:  30\n",
      "b -= a:  15\n",
      "b *= a:  225\n",
      "b /= a:  15.0\n",
      "b //= a:  1.0\n",
      "b %= a:  1.0\n",
      "b **= a:  1.0\n",
      "b <= a:  1.0\n",
      "b >= a:  1.0\n",
      "a &= 5:  5\n",
      "a |= 5:  5\n"
     ]
    }
   ],
   "source": [
    "# Assigning the values to variables\n",
    "a = 15\n",
    "b = 5\n",
    "# Simple assignment operator\n",
    "b = a\n",
    "print('b = a: ',b)\n",
    "# ADD AND operator\n",
    "b += a\n",
    "print('b += a: ', b)\n",
    "# SUBTRACT AND operatpr\n",
    "b -= a\n",
    "print('b -= a: ', b)\n",
    "# MULTIPLICATION AND operator\n",
    "b *= a\n",
    "print('b *= a: ', b)\n",
    "# DIVISION AND operator\n",
    "b /= a\n",
    "print('b /= a: ', b)\n",
    "# FLOOR AND operator\n",
    "b //= a\n",
    "print('b //= a: ', b)\n",
    "# MODULUS AND operator\n",
    "b %= a\n",
    "print('b %= a: ', b)\n",
    "# EXPONENT AND operator\n",
    "b **= a\n",
    "print('b **= a: ', b)\n",
    "# LESS THAN AND operator\n",
    "b <= a\n",
    "print('b <= a: ', b)\n",
    "# GREATOR THAN AND operator\n",
    "b >= a\n",
    "print('b >= a: ', b)\n",
    "# BINARY AND operator\n",
    "a &= 5\n",
    "print('a &= 5: ', a)\n",
    "# BINARY OR operator\n",
    "a |= 5\n",
    "print('a |= 5: ', a)"
   ]
  },
  {
   "cell_type": "code",
   "execution_count": 26,
   "metadata": {},
   "outputs": [
    {
     "name": "stdout",
     "output_type": "stream",
     "text": [
      "True\n",
      "140729814157104\n",
      "140729814157104\n"
     ]
    }
   ],
   "source": [
    "a = 5\n",
    "b = 5\n",
    "print(a is b)\n",
    "print(id(a))\n",
    "print(id(b))"
   ]
  },
  {
   "cell_type": "code",
   "execution_count": 25,
   "metadata": {},
   "outputs": [
    {
     "data": {
      "text/plain": [
       "True"
      ]
     },
     "execution_count": 25,
     "metadata": {},
     "output_type": "execute_result"
    }
   ],
   "source": [
    "x = 'abc'\n",
    "x='abc'\n",
    "x is x"
   ]
  },
  {
   "cell_type": "code",
   "execution_count": 27,
   "metadata": {},
   "outputs": [
    {
     "data": {
      "text/plain": [
       "True"
      ]
     },
     "execution_count": 27,
     "metadata": {},
     "output_type": "execute_result"
    }
   ],
   "source": [
    "fruit = 'apple'\n",
    "'a' in fruit"
   ]
  },
  {
   "cell_type": "code",
   "execution_count": 30,
   "metadata": {},
   "outputs": [
    {
     "data": {
      "text/plain": [
       "True"
      ]
     },
     "execution_count": 30,
     "metadata": {},
     "output_type": "execute_result"
    }
   ],
   "source": [
    "name = ['Jibran', 'Farooq', 'Ahmed', 'Aliza']\n",
    "'Jibran' in name"
   ]
  },
  {
   "cell_type": "code",
   "execution_count": 31,
   "metadata": {},
   "outputs": [
    {
     "name": "stdout",
     "output_type": "stream",
     "text": [
      "<class 'str'>\n",
      "True\n",
      "True\n"
     ]
    }
   ],
   "source": [
    "# Assigning a string value to a variable\n",
    "a = \"Python\"\n",
    "# Type of the variable\n",
    "print(type(a))\n",
    "# Checking whether 'y' is present in the variable a or not\n",
    "print('y' in a)\n",
    "# Checking whether 'P' is present in the variable a or not\n",
    "print('p' not in a)"
   ]
  }
 ],
 "metadata": {
  "kernelspec": {
   "display_name": "Python 3",
   "language": "python",
   "name": "python3"
  },
  "language_info": {
   "codemirror_mode": {
    "name": "ipython",
    "version": 3
   },
   "file_extension": ".py",
   "mimetype": "text/x-python",
   "name": "python",
   "nbconvert_exporter": "python",
   "pygments_lexer": "ipython3",
   "version": "3.8.8"
  }
 },
 "nbformat": 4,
 "nbformat_minor": 2
}
