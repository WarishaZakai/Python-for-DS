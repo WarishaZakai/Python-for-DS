{
 "cells": [
  {
   "cell_type": "code",
   "execution_count": 4,
   "metadata": {},
   "outputs": [
    {
     "name": "stdout",
     "output_type": "stream",
     "text": [
      "#\n",
      "##\n",
      "###\n",
      "####\n",
      "#####\n",
      "######\n",
      "#######\n"
     ]
    }
   ],
   "source": [
    "#1\n",
    "rows = int(input(\"Enter the number of rows for pattern\"))\n",
    "for i in range(1, rows + 1):\n",
    "    for j in range(1, i+1):\n",
    "        print('#', end='')\n",
    "    print()"
   ]
  },
  {
   "cell_type": "code",
   "execution_count": 2,
   "metadata": {},
   "outputs": [
    {
     "name": "stdout",
     "output_type": "stream",
     "text": [
      "########\n",
      "########\n",
      "########\n",
      "########\n",
      "########\n",
      "########\n",
      "########\n",
      "########\n"
     ]
    }
   ],
   "source": [
    "#2\n",
    "rows = int(input(\"Enter the number of rows for pattern\"))\n",
    "for i in range(1, rows + 1):\n",
    "    for j in range(1, 9):\n",
    "        print('#', end='')\n",
    "    print()"
   ]
  },
  {
   "cell_type": "code",
   "execution_count": 6,
   "metadata": {},
   "outputs": [
    {
     "name": "stdout",
     "output_type": "stream",
     "text": [
      "Python\n",
      "Numpy\n",
      "Pandas\n",
      "Django\n",
      "Flask\n"
     ]
    }
   ],
   "source": [
    "#3\n",
    "list = ['Python', 'Numpy','Pandas','Django', 'Flask']\n",
    "for items in list:\n",
    "    print(items)"
   ]
  },
  {
   "cell_type": "code",
   "execution_count": 5,
   "metadata": {},
   "outputs": [
    {
     "name": "stdout",
     "output_type": "stream",
     "text": [
      "Sum of even numbers =  2550\n",
      "Sum of odd numbers =   2500\n"
     ]
    }
   ],
   "source": [
    "#4\n",
    "even_sum = 0\n",
    "odd_sum = 0\n",
    "for num in range(101):\n",
    "    if num % 2 == 0:\n",
    "        even_sum += num\n",
    "    else:\n",
    "        odd_sum += num\n",
    "print(\"Sum of even numbers = \", even_sum)\n",
    "print(\"Sum of odd numbers =  \", odd_sum)"
   ]
  },
  {
   "cell_type": "code",
   "execution_count": 7,
   "metadata": {},
   "outputs": [
    {
     "name": "stdout",
     "output_type": "stream",
     "text": [
      "The cube of  1 is =  1\n",
      "The cube of  2 is =  8\n",
      "The cube of  3 is =  27\n",
      "The cube of  4 is =  64\n",
      "The cube of  5 is =  125\n",
      "The cube of  6 is =  216\n"
     ]
    }
   ],
   "source": [
    "#5\n",
    "n = int(input(\"Enter a number\"))\n",
    "for x in range(1, n+1):\n",
    "    cube = x ** 3\n",
    "    print(\"The cube of \", x, \"is = \", cube)"
   ]
  },
  {
   "cell_type": "code",
   "execution_count": null,
   "metadata": {},
   "outputs": [
    {
     "name": "stdout",
     "output_type": "stream",
     "text": [
      "Number1:  2\n",
      "Number2:  4\n",
      "The sum is =  6\n"
     ]
    }
   ],
   "source": [
    "#6\n",
    "def add_two_numbers(num1,num2):\n",
    "    print(\"Number1: \", num1)\n",
    "    print(\"Number2: \", num2)\n",
    "    addition = num1 + num2\n",
    "    return addition\n",
    "result = add_two_numbers(2,4)\n",
    "print(\"The sum is = \", result)"
   ]
  },
  {
   "cell_type": "code",
   "execution_count": 22,
   "metadata": {},
   "outputs": [
    {
     "name": "stdout",
     "output_type": "stream",
     "text": [
      "Radius =  5.0\n",
      "Area of circle =  78.55\n"
     ]
    }
   ],
   "source": [
    "#7\n",
    "def circle(r):\n",
    "    pi = 3.142\n",
    "    area_of_circle = pi * r * r\n",
    "    return area_of_circle\n",
    "radius = float(input(\"Enter radius of circle\"))\n",
    "print(\"Radius = \", radius)\n",
    "area = circle(radius)\n",
    "print(\"Area of circle = \", area)\n"
   ]
  },
  {
   "cell_type": "code",
   "execution_count": 8,
   "metadata": {},
   "outputs": [
    {
     "name": "stdout",
     "output_type": "stream",
     "text": [
      "The sum is: 10.5\n",
      "('Error: ', 'three', 'is not a number. Please provide only numeric values')\n"
     ]
    }
   ],
   "source": [
    "#8\n",
    "def add_all_nums(*args):\n",
    "    total = 0\n",
    "    for argument in args:\n",
    "        if not isinstance(argument, (int, float)):\n",
    "            return \"Error: \", argument, \"is not a number. Please provide only numeric values\"\n",
    "        total += argument\n",
    "    return total\n",
    "result1 = add_all_nums(1, 2, 3, 4.5)\n",
    "print(\"The sum is:\", result1)  \n",
    "result2 = add_all_nums(1, 2, 'three', 4)\n",
    "print(result2) "
   ]
  },
  {
   "cell_type": "code",
   "execution_count": 28,
   "metadata": {},
   "outputs": [
    {
     "name": "stdout",
     "output_type": "stream",
     "text": [
      "Temperature in celsius =  25.0\n",
      "Temperature in fahrenheit =  77.0\n"
     ]
    }
   ],
   "source": [
    "#9\n",
    "def convert_celsius_to_fahrenheit(celsius):\n",
    "    Fahrenheit = (celsius * 9/5) + 32\n",
    "    return Fahrenheit\n",
    "celsius = float(input(\"Enter temperature in celsius\"))\n",
    "print(\"Temperature in celsius = \", celsius)\n",
    "degree_fahrenheit = convert_celsius_to_fahrenheit(celsius)\n",
    "print(\"Temperature in fahrenheit = \", degree_fahrenheit)\n"
   ]
  },
  {
   "cell_type": "code",
   "execution_count": 34,
   "metadata": {},
   "outputs": [
    {
     "name": "stdout",
     "output_type": "stream",
     "text": [
      "Winter\n",
      "Spring\n",
      "Summer\n",
      "Autumn\n"
     ]
    }
   ],
   "source": [
    "#10\n",
    "def check_season(month):\n",
    "    month = month.lower() \n",
    "    if month in ['december', 'january', 'february']:\n",
    "        return 'Winter'\n",
    "    elif month in ['march', 'april', 'may']:\n",
    "        return 'Spring'\n",
    "    elif month in ['june', 'july', 'august']:\n",
    "        return 'Summer'\n",
    "    elif month in ['september', 'october', 'november']:\n",
    "        return 'Autumn'\n",
    "    else:\n",
    "        print(\"Error\")\n",
    "print(check_season(\"January\"))  \n",
    "print(check_season(\"April\"))    \n",
    "print(check_season(\"July\"))    \n",
    "print(check_season(\"October\"))  \n",
    "  "
   ]
  },
  {
   "cell_type": "code",
   "execution_count": 35,
   "metadata": {},
   "outputs": [
    {
     "name": "stdout",
     "output_type": "stream",
     "text": [
      "The slope between points  (1, 2) and  (3, 4) is:  1.0\n",
      "Error: The slope is undefined\n"
     ]
    }
   ],
   "source": [
    "#11\n",
    "def calculate_slope(point1, point2):\n",
    "    (x1, y1) = point1\n",
    "    (x2, y2) = point2\n",
    "    if x2 - x1 == 0:\n",
    "        return \"Error: The slope is undefined\"\n",
    "    slope = (y2 - y1) / (x2 - x1)\n",
    "    return slope\n",
    "point_a = (1, 2)\n",
    "point_b = (3, 4)\n",
    "slope = calculate_slope(point_a, point_b)\n",
    "print(\"The slope between points \", point_a, \"and \", point_b, \"is: \", slope)\n",
    "point_c = (2, 3)\n",
    "point_d = (2, 5)  \n",
    "slope_vertical = calculate_slope(point_c, point_d)\n",
    "print(slope_vertical) "
   ]
  },
  {
   "cell_type": "code",
   "execution_count": 37,
   "metadata": {},
   "outputs": [
    {
     "name": "stdout",
     "output_type": "stream",
     "text": [
      "The solutions for the equation  1 x^2 +  -3 x +  2 = 0 are:  ((2+0j), (1+0j))\n",
      "The solutions for the equation  1 x^2 +  2 x +  5  = 0 are:  ((-1+2j), (-1-2j))\n"
     ]
    }
   ],
   "source": [
    "#12\n",
    "import cmath  \n",
    "\n",
    "def solve_quadratic_eqn(a, b, c):\n",
    "    if a == 0:\n",
    "        return \"Error: 'a' cannot be zero in a quadratic equation\"\n",
    "    discriminant = b**2 - 4*a*c\n",
    "    root1 = (-b + cmath.sqrt(discriminant)) / (2 * a)\n",
    "    root2 = (-b - cmath.sqrt(discriminant)) / (2 * a)\n",
    "    return root1, root2\n",
    "a = 1\n",
    "b = -3\n",
    "c = 2\n",
    "solutions = solve_quadratic_eqn(a, b, c)\n",
    "print(\"The solutions for the equation \", a, \"x^2 + \", b, \"x + \", c, \"= 0 are: \", solutions)\n",
    "a = 1\n",
    "b = 2\n",
    "c = 5\n",
    "solutions_complex = solve_quadratic_eqn(a, b, c)\n",
    "print(\"The solutions for the equation \", a, \"x^2 + \", b, \"x + \", c, \" = 0 are: \", solutions_complex)"
   ]
  },
  {
   "cell_type": "code",
   "execution_count": 45,
   "metadata": {},
   "outputs": [
    {
     "name": "stdout",
     "output_type": "stream",
     "text": [
      "1\n",
      "2\n",
      "3\n",
      "apple\n",
      "banana\n",
      "4.5\n"
     ]
    }
   ],
   "source": [
    "#13\n",
    "def print_list(input_list):\n",
    "    for element in input_list:\n",
    "        print(element)\n",
    "list = [1, 2, 3, 'apple', 'banana', 4.5]\n",
    "print_list(list)\n"
   ]
  },
  {
   "cell_type": "code",
   "execution_count": 46,
   "metadata": {},
   "outputs": [
    {
     "name": "stdout",
     "output_type": "stream",
     "text": [
      "[5, 4, 3, 2, 1]\n",
      "['C', 'B', 'A']\n"
     ]
    }
   ],
   "source": [
    "#14\n",
    "def reverse_list(input_array):\n",
    "    reversed_array = [] \n",
    "    for i in range(len(input_array) - 1, -1, -1):  \n",
    "        reversed_array.append(input_array[i])  \n",
    "    return reversed_array\n",
    "print(reverse_list([1, 2, 3, 4, 5]))  \n",
    "print(reverse_list([\"A\", \"B\", \"C\"]))   "
   ]
  },
  {
   "cell_type": "code",
   "execution_count": 49,
   "metadata": {},
   "outputs": [
    {
     "name": "stdout",
     "output_type": "stream",
     "text": [
      "(3, 3)\n",
      "(5, 0)\n"
     ]
    }
   ],
   "source": [
    "#15\n",
    "def evens_and_odds(number):\n",
    "    if number < 0:\n",
    "        return \"Error: The number must be a positive integer.\"\n",
    "    even_count = 0\n",
    "    odd_count = 0\n",
    "    for digit in str(number):\n",
    "        if int(digit) % 2 == 0:\n",
    "            even_count += 1  \n",
    "        else:\n",
    "            odd_count += 1   \n",
    "    return even_count, odd_count\n",
    "print(evens_and_odds(123456))  \n",
    "print(evens_and_odds(24680))   \n"
   ]
  },
  {
   "cell_type": "code",
   "execution_count": 50,
   "metadata": {},
   "outputs": [
    {
     "name": "stdout",
     "output_type": "stream",
     "text": [
      "Mean: 3.6666666666666665\n",
      "Median: 4\n",
      "Mode: [5]\n",
      "Range: 5\n",
      "Variance: 2.6666666666666665\n",
      "Standard Deviation: 1.632993161855452\n"
     ]
    }
   ],
   "source": [
    "#16\n",
    "import math\n",
    "def calculate_mean(numbers):\n",
    "    if not numbers:\n",
    "        return 0\n",
    "    return sum(numbers) / len(numbers)\n",
    "\n",
    "def calculate_median(numbers):\n",
    "    if not numbers:\n",
    "        return 0\n",
    "    sorted_numbers = sorted(numbers)\n",
    "    n = len(sorted_numbers)\n",
    "    mid = n // 2\n",
    "    if n % 2 == 0:\n",
    "        return (sorted_numbers[mid - 1] + sorted_numbers[mid]) / 2\n",
    "    else:\n",
    "        return sorted_numbers[mid]\n",
    "\n",
    "def calculate_mode(numbers):\n",
    "    if not numbers:\n",
    "        return None\n",
    "    frequency = {}\n",
    "    for num in numbers:\n",
    "        if num in frequency:\n",
    "            frequency[num] += 1\n",
    "        else:\n",
    "            frequency[num] = 1\n",
    "    max_count = max(frequency.values())\n",
    "    modes = [num for num, count in frequency.items() if count == max_count]\n",
    "    return modes if len(modes) < len(numbers) else None\n",
    "\n",
    "def calculate_range(numbers):\n",
    "    if not numbers:\n",
    "        return 0\n",
    "    return max(numbers) - min(numbers)\n",
    "\n",
    "def calculate_variance(numbers):\n",
    "    if not numbers:\n",
    "        return 0\n",
    "    mean = calculate_mean(numbers)\n",
    "    return sum((x - mean) ** 2 for x in numbers) / len(numbers)\n",
    "\n",
    "def calculate_std(numbers):\n",
    "    if not numbers:\n",
    "        return 0\n",
    "    variance = calculate_variance(numbers)\n",
    "    return math.sqrt(variance)\n",
    "\n",
    "data = [1, 2, 2, 3, 4, 5, 5, 5, 6]\n",
    "print(\"Mean:\", calculate_mean(data))       \n",
    "print(\"Median:\", calculate_median(data))     \n",
    "print(\"Mode:\", calculate_mode(data))         \n",
    "print(\"Range:\", calculate_range(data))      \n",
    "print(\"Variance:\", calculate_variance(data))  \n",
    "print(\"Standard Deviation:\", calculate_std(data))  "
   ]
  },
  {
   "cell_type": "code",
   "execution_count": 52,
   "metadata": {},
   "outputs": [
    {
     "name": "stdout",
     "output_type": "stream",
     "text": [
      "True\n",
      "False\n"
     ]
    }
   ],
   "source": [
    "#17\n",
    "def are_all_items_unique(list):\n",
    "    unique = set()\n",
    "    for item in list:\n",
    "        if item in unique:\n",
    "            return False\n",
    "        unique.add(item)\n",
    "    return True  \n",
    "\n",
    "print(are_all_items_unique([1, 2, 3, 4, 5]))  \n",
    "print(are_all_items_unique([1, 2, 3, 4, 5, 1]))  "
   ]
  },
  {
   "cell_type": "code",
   "execution_count": null,
   "metadata": {},
   "outputs": [
    {
     "name": "stdout",
     "output_type": "stream",
     "text": [
      "True\n",
      "False\n"
     ]
    }
   ],
   "source": [
    "#18\n",
    "def are_all_items_same_type(lst):\n",
    "    if not lst:  \n",
    "        return True\n",
    "    first_type = type(lst[0])  \n",
    "    for item in lst:\n",
    "        if type(item) is not first_type:  \n",
    "            return False  \n",
    "    return True  \n",
    "\n",
    "print(are_all_items_same_type([1, 2, 3, 4]))  \n",
    "print(are_all_items_same_type([1, '2', 3])) "
   ]
  },
  {
   "cell_type": "code",
   "execution_count": 1,
   "metadata": {},
   "outputs": [
    {
     "name": "stdout",
     "output_type": "stream",
     "text": [
      "True\n",
      "False\n",
      "True\n",
      "False\n"
     ]
    }
   ],
   "source": [
    "#19\n",
    "def is_valid_variable_name(var_name):\n",
    "    reserved_keywords = [\n",
    "        \"False\", \"None\", \"True\", \"and\", \"as\", \"assert\", \"async\", \"await\",\n",
    "        \"break\", \"class\", \"continue\", \"def\", \"del\", \"elif\", \"else\", \"except\",\n",
    "        \"finally\", \"for\", \"from\", \"global\", \"if\", \"import\", \"in\", \"is\", \"lambda\",\n",
    "        \"nonlocal\", \"not\", \"or\", \"pass\", \"raise\", \"return\", \"try\", \"while\", \"with\",\n",
    "        \"yield\"\n",
    "    ]\n",
    "    if not isinstance(var_name, str):\n",
    "        return False  \n",
    "    if not var_name.isidentifier():\n",
    "        return False  \n",
    "    if var_name in reserved_keywords:\n",
    "        return False  \n",
    "    return True  \n",
    "\n",
    "print(is_valid_variable_name(\"my_variable\"))\n",
    "print(is_valid_variable_name(\"2nd_variable\"))  \n",
    "print(is_valid_variable_name(\"_private_var\"))  \n",
    "print(is_valid_variable_name(\"\"))  "
   ]
  },
  {
   "cell_type": "code",
   "execution_count": 2,
   "metadata": {},
   "outputs": [
    {
     "name": "stdout",
     "output_type": "stream",
     "text": [
      "Number of local variables declared in the function:  4\n"
     ]
    }
   ],
   "source": [
    "#20\n",
    "def count_local_variables():\n",
    "    a = 10\n",
    "    b = 20\n",
    "    c = 30\n",
    "    d = \"Hello\"\n",
    "    local_vars = locals()  \n",
    "    return len(local_vars)  \n",
    "num_local_vars = count_local_variables()\n",
    "print(\"Number of local variables declared in the function: \", num_local_vars)"
   ]
  }
 ],
 "metadata": {
  "kernelspec": {
   "display_name": "Python 3",
   "language": "python",
   "name": "python3"
  },
  "language_info": {
   "codemirror_mode": {
    "name": "ipython",
    "version": 3
   },
   "file_extension": ".py",
   "mimetype": "text/x-python",
   "name": "python",
   "nbconvert_exporter": "python",
   "pygments_lexer": "ipython3",
   "version": "3.8.8"
  }
 },
 "nbformat": 4,
 "nbformat_minor": 2
}
