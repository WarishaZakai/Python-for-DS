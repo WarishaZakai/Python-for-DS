{
 "cells": [
  {
   "cell_type": "code",
   "execution_count": 2,
   "metadata": {},
   "outputs": [
    {
     "name": "stdout",
     "output_type": "stream",
     "text": [
      "Guess Higher\n",
      "Guess Higher\n",
      "Guess Higher\n",
      "Guess lower\n",
      "Guess lower\n",
      "Guess Higher\n",
      "Guess Higher\n",
      "Guess lower\n",
      "Guess Higher\n",
      "Guess Higher\n",
      "Guess Higher\n",
      "Correct answer\n",
      "Number of turns taken by user 12\n"
     ]
    }
   ],
   "source": [
    "import random \n",
    "jackpot = random.randint(1, 100)\n",
    "guess_num = int(input(\"Enter a number\"))\n",
    "counter = 1\n",
    "while guess_num != jackpot:\n",
    "    if guess_num < jackpot:\n",
    "        print(\"Guess Higher\")\n",
    "    else:\n",
    "        print(\"Guess lower\")\n",
    "    guess_num = int(input(\"Guess the number\"))\n",
    "    counter += 1\n",
    "else:\n",
    "    print(\"Correct answer\")\n",
    "    print(\"Number of turns taken by user\", counter)"
   ]
  },
  {
   "cell_type": "code",
   "execution_count": 4,
   "metadata": {},
   "outputs": [
    {
     "name": "stdout",
     "output_type": "stream",
     "text": [
      "1\n",
      "2\n",
      "3\n",
      "4\n",
      "5\n",
      "6\n",
      "7\n",
      "8\n",
      "9\n"
     ]
    }
   ],
   "source": [
    "for num in range(1,10):\n",
    "    print(num)"
   ]
  },
  {
   "cell_type": "code",
   "execution_count": 13,
   "metadata": {},
   "outputs": [
    {
     "name": "stdout",
     "output_type": "stream",
     "text": [
      "Name Warisha\n",
      "Gender Female\n",
      "Skills AI\n",
      "Age 23\n"
     ]
    }
   ],
   "source": [
    "person = {'Name':'Warisha',\n",
    "          'Gender':'Female',\n",
    "          'Skills':'AI',\n",
    "          'Age':'23'\n",
    "          }\n",
    "for item in person:\n",
    "    print(item,person[item])\n"
   ]
  },
  {
   "cell_type": "code",
   "execution_count": 12,
   "metadata": {},
   "outputs": [
    {
     "name": "stdout",
     "output_type": "stream",
     "text": [
      "1 50\n",
      "2 45\n",
      "3 55\n"
     ]
    }
   ],
   "source": [
    "dict= {1:50,2:45,3:55}\n",
    "for num in dict:\n",
    "    print (num,dict[num])"
   ]
  },
  {
   "cell_type": "code",
   "execution_count": 17,
   "metadata": {},
   "outputs": [
    {
     "name": "stdout",
     "output_type": "stream",
     "text": [
      "10 Years ago 10000\n",
      "9 Years ago 9091\n",
      "8 Years ago 8265\n",
      "7 Years ago 7514\n",
      "6 Years ago 6831\n",
      "5 Years ago 6210\n",
      "4 Years ago 5645\n",
      "3 Years ago 5132\n",
      "2 Years ago 4665\n",
      "1 Years ago 4241\n"
     ]
    }
   ],
   "source": [
    "#Program - The current population of a town is 10000. The population of the town is increasing at the rate of 10% per year.\n",
    "#You have to write a program to find out the population at the end of each of the last 10 years.\n",
    "population = 10000\n",
    "for year in range(10, 0, -1):\n",
    "    print(year,\"Years ago\",population)\n",
    "    population = round(population/1.1)\n"
   ]
  },
  {
   "cell_type": "code",
   "execution_count": 19,
   "metadata": {},
   "outputs": [
    {
     "name": "stdout",
     "output_type": "stream",
     "text": [
      "1 1\n",
      "1 2\n",
      "1 3\n",
      "1 4\n",
      "2 1\n",
      "2 2\n",
      "2 3\n",
      "2 4\n",
      "3 1\n",
      "3 2\n",
      "3 3\n",
      "3 4\n",
      "4 1\n",
      "4 2\n",
      "4 3\n",
      "4 4\n"
     ]
    }
   ],
   "source": [
    "for i in range(1,5):\n",
    "    for j in range(1,5):\n",
    "        print(i,j)"
   ]
  },
  {
   "cell_type": "code",
   "execution_count": 23,
   "metadata": {},
   "outputs": [
    {
     "name": "stdout",
     "output_type": "stream",
     "text": [
      "*\n",
      "**\n",
      "***\n",
      "****\n",
      "*****\n"
     ]
    }
   ],
   "source": [
    "#Pattern 1 \n",
    "#*\n",
    "#**\n",
    "#***\n",
    "#****\n",
    "\n",
    "rows = int(input(\"Enter the number of rows for pattern\"))\n",
    "for i in range(1, rows + 1):\n",
    "    print('*'* i)  "
   ]
  },
  {
   "cell_type": "code",
   "execution_count": 2,
   "metadata": {},
   "outputs": [
    {
     "name": "stdout",
     "output_type": "stream",
     "text": [
      "*\n",
      "**\n",
      "***\n",
      "****\n",
      "*****\n"
     ]
    }
   ],
   "source": [
    "rows = int(input(\"Enter the number of rows for pattern\"))\n",
    "for i in range(1, rows + 1):\n",
    "    for j in range(1, i+1):\n",
    "        print('*', end='')\n",
    "    print()"
   ]
  },
  {
   "cell_type": "code",
   "execution_count": 8,
   "metadata": {},
   "outputs": [
    {
     "name": "stdout",
     "output_type": "stream",
     "text": [
      "*****\n",
      "****\n",
      "***\n",
      "**\n",
      "*\n"
     ]
    }
   ],
   "source": [
    "rows = int(input(\"Enter the number of rows for pattern\"))\n",
    "for i in range(rows, 0, -1):\n",
    "    for j in range(i, 0, -1):\n",
    "        print('*', end='')\n",
    "    print()"
   ]
  }
 ],
 "metadata": {
  "kernelspec": {
   "display_name": "Python 3",
   "language": "python",
   "name": "python3"
  },
  "language_info": {
   "codemirror_mode": {
    "name": "ipython",
    "version": 3
   },
   "file_extension": ".py",
   "mimetype": "text/x-python",
   "name": "python",
   "nbconvert_exporter": "python",
   "pygments_lexer": "ipython3",
   "version": "3.8.8"
  }
 },
 "nbformat": 4,
 "nbformat_minor": 2
}
