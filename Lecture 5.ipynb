{
 "cells": [
  {
   "cell_type": "code",
   "execution_count": 1,
   "metadata": {},
   "outputs": [
    {
     "name": "stdout",
     "output_type": "stream",
     "text": [
      "['Mango', 'Strawberry', 'Kiwi', 'Peach']\n",
      "['Banana', 'Melon', 'Orange', 'Papaya']\n",
      "['Pineapple', 'Dragon fruit', 'Watermelon', 'Grapes']\n"
     ]
    }
   ],
   "source": [
    "fav_fruit =  ['Mango', 'Strawberry', 'Kiwi', 'Peach']\n",
    "not_eaten_fruit = ['Banana', 'Melon', 'Orange', 'Papaya']\n",
    "ocassional_fruit = ['Pineapple', 'Dragon fruit', 'Watermelon', 'Grapes']\n",
    "\n",
    "print(fav_fruit)\n",
    "print(not_eaten_fruit)\n",
    "print(ocassional_fruit)"
   ]
  },
  {
   "cell_type": "code",
   "execution_count": 2,
   "metadata": {},
   "outputs": [
    {
     "name": "stdout",
     "output_type": "stream",
     "text": [
      "['Mango', 'Strawberry', 'Kiwi', 'Peach', ['Banana', 'Melon', 'Orange', 'Papaya']]\n"
     ]
    }
   ],
   "source": [
    "fav_fruit.append(not_eaten_fruit)\n",
    "print(fav_fruit)"
   ]
  },
  {
   "cell_type": "code",
   "execution_count": 3,
   "metadata": {},
   "outputs": [
    {
     "name": "stdout",
     "output_type": "stream",
     "text": [
      "['Mango', 'Strawberry', 'Kiwi', 'Peach', ['Banana', 'Melon', 'Orange', 'Papaya'], ['Pineapple', 'Dragon fruit', 'Watermelon', 'Grapes']]\n"
     ]
    }
   ],
   "source": [
    "fav_fruit.append(ocassional_fruit)\n",
    "print(fav_fruit)"
   ]
  },
  {
   "cell_type": "code",
   "execution_count": 4,
   "metadata": {},
   "outputs": [
    {
     "name": "stdout",
     "output_type": "stream",
     "text": [
      "[['Pineapple', 'Dragon fruit', 'Watermelon', 'Grapes'], ['Banana', 'Melon', 'Orange', 'Papaya'], 'Peach', 'Kiwi', 'Strawberry', 'Mango']\n"
     ]
    }
   ],
   "source": [
    "fav_fruit.reverse()\n",
    "print(fav_fruit)"
   ]
  },
  {
   "cell_type": "code",
   "execution_count": 11,
   "metadata": {},
   "outputs": [
    {
     "data": {
      "text/plain": [
       "True"
      ]
     },
     "execution_count": 11,
     "metadata": {},
     "output_type": "execute_result"
    }
   ],
   "source": [
    "'Apple' not in fav_fruit"
   ]
  },
  {
   "cell_type": "code",
   "execution_count": 17,
   "metadata": {},
   "outputs": [
    {
     "name": "stdout",
     "output_type": "stream",
     "text": [
      "(1, 2, 2, 3, 4, 6, 7, 8)\n",
      "<class 'tuple'>\n"
     ]
    }
   ],
   "source": [
    "numbers=(1,2,2,3,4,6,7,8)\n",
    "print(numbers)\n",
    "print(type(numbers))"
   ]
  },
  {
   "cell_type": "code",
   "execution_count": 19,
   "metadata": {},
   "outputs": [
    {
     "data": {
      "text/plain": [
       "2"
      ]
     },
     "execution_count": 19,
     "metadata": {},
     "output_type": "execute_result"
    }
   ],
   "source": [
    "numbers.count(2)"
   ]
  },
  {
   "cell_type": "code",
   "execution_count": 20,
   "metadata": {},
   "outputs": [
    {
     "name": "stdout",
     "output_type": "stream",
     "text": [
      "(11, 22, 34, 45, 67, 89)\n"
     ]
    }
   ],
   "source": [
    "numbers1=(11,22,34,45,67,89)\n",
    "print(numbers1)"
   ]
  },
  {
   "cell_type": "code",
   "execution_count": 21,
   "metadata": {},
   "outputs": [
    {
     "name": "stdout",
     "output_type": "stream",
     "text": [
      "(1, 2, 2, 3, 4, 6, 7, 8, 11, 22, 34, 45, 67, 89)\n"
     ]
    }
   ],
   "source": [
    "number_list=numbers+numbers1\n",
    "print(number_list)"
   ]
  },
  {
   "cell_type": "code",
   "execution_count": 23,
   "metadata": {},
   "outputs": [
    {
     "data": {
      "text/plain": [
       "(1, 2, 2, 3, 4, 6, 7, 8, 1, 2, 2, 3, 4, 6, 7, 8, 1, 2, 2, 3, 4, 6, 7, 8)"
      ]
     },
     "execution_count": 23,
     "metadata": {},
     "output_type": "execute_result"
    }
   ],
   "source": [
    "numbers*3"
   ]
  },
  {
   "cell_type": "code",
   "execution_count": 27,
   "metadata": {},
   "outputs": [
    {
     "data": {
      "text/plain": [
       "[['Pineapple', 'Dragon fruit', 'Watermelon', 'Grapes'],\n",
       " ['Banana', 'Melon', 'Orange', 'Papaya'],\n",
       " 'Peach',\n",
       " 'Kiwi',\n",
       " 'Strawberry',\n",
       " 'Mango']"
      ]
     },
     "execution_count": 27,
     "metadata": {},
     "output_type": "execute_result"
    }
   ],
   "source": [
    "fav_fruit "
   ]
  },
  {
   "cell_type": "code",
   "execution_count": 30,
   "metadata": {},
   "outputs": [
    {
     "name": "stdout",
     "output_type": "stream",
     "text": [
      "['Banana', 'Melon', 'Orange', 'Papaya', ['Pineapple', 'Dragon fruit', 'Watermelon', 'Grapes'], ['Banana', 'Melon', 'Orange', 'Papaya'], 'Peach', 'Kiwi', 'Strawberry', 'Mango']\n"
     ]
    }
   ],
   "source": [
    "fruits_list= not_eaten_fruit + fav_fruit\n",
    "print(fruits_list)"
   ]
  },
  {
   "cell_type": "code",
   "execution_count": 33,
   "metadata": {},
   "outputs": [
    {
     "data": {
      "text/plain": [
       "[89, 67, 45, 34, 22, 11]"
      ]
     },
     "execution_count": 33,
     "metadata": {},
     "output_type": "execute_result"
    }
   ],
   "source": [
    "sorted(numbers1, reverse = True)"
   ]
  },
  {
   "cell_type": "code",
   "execution_count": 34,
   "metadata": {},
   "outputs": [
    {
     "data": {
      "text/plain": [
       "268"
      ]
     },
     "execution_count": 34,
     "metadata": {},
     "output_type": "execute_result"
    }
   ],
   "source": [
    "sum(numbers1)"
   ]
  }
 ],
 "metadata": {
  "kernelspec": {
   "display_name": "Python 3",
   "language": "python",
   "name": "python3"
  },
  "language_info": {
   "codemirror_mode": {
    "name": "ipython",
    "version": 3
   },
   "file_extension": ".py",
   "mimetype": "text/x-python",
   "name": "python",
   "nbconvert_exporter": "python",
   "pygments_lexer": "ipython3",
   "version": "3.8.8"
  }
 },
 "nbformat": 4,
 "nbformat_minor": 2
}
