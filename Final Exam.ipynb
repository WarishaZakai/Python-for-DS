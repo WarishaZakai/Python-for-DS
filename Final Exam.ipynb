{
 "cells": [
  {
   "cell_type": "code",
   "execution_count": 8,
   "metadata": {},
   "outputs": [
    {
     "name": "stdout",
     "output_type": "stream",
     "text": [
      "The number is zero.\n"
     ]
    }
   ],
   "source": [
    "#1(a)\n",
    "number = input(\"Enter a number: \")\n",
    "number = float(number)  \n",
    "if number == 0:\n",
    "    print(\"The number is zero.\")\n",
    "elif number % 2 == 0:\n",
    "    print(\"The number is even.\")\n",
    "else:\n",
    "    print(\"The number is odd.\")\n"
   ]
  },
  {
   "cell_type": "code",
   "execution_count": 5,
   "metadata": {},
   "outputs": [
    {
     "name": "stdout",
     "output_type": "stream",
     "text": [
      "Diameter =  10.0\n",
      "Area of circle =  78.53975\n",
      "Circumference of a circle =  31.4159\n"
     ]
    }
   ],
   "source": [
    "#1(b)\n",
    "diameter = float(input('Enter diameter of circle in meters'))\n",
    "print('Diameter = ',diameter)\n",
    "pi = 3.14159\n",
    "area_of_circle = 0.25 * pi * (diameter ** 2)\n",
    "print('Area of circle = ',area_of_circle)\n",
    "circum_of_circle = pi * diameter\n",
    "print('Circumference of a circle = ',circum_of_circle )"
   ]
  },
  {
   "cell_type": "code",
   "execution_count": 4,
   "metadata": {},
   "outputs": [
    {
     "name": "stdout",
     "output_type": "stream",
     "text": [
      "[10, 20, 30, 40, 50, 60]\n",
      "[10, 30, 40, 50, 60]\n",
      "[10, 30, 80, 40, 50, 60]\n",
      "Sum =  270\n"
     ]
    }
   ],
   "source": [
    "#1(c)\n",
    "list = [10, 20, 30, 40, 50]\n",
    "list.append(60)\n",
    "print(list)\n",
    "list.remove(20)\n",
    "print(list)\n",
    "list.insert(2, 80)\n",
    "print(list)\n",
    "sum = sum(list)\n",
    "print(\"Sum = \", sum)"
   ]
  },
  {
   "cell_type": "code",
   "execution_count": 6,
   "metadata": {},
   "outputs": [
    {
     "name": "stdout",
     "output_type": "stream",
     "text": [
      "Please insert coins.\n",
      "Here is your change: $  34.1\n",
      "Here is your  latte Enjoy!\n",
      "Current resources:\n",
      "  Water   100\n",
      "  Milk   50\n",
      "  Coffee   76\n",
      "  Cups   9\n",
      "  Money   2.5\n",
      "\n",
      "Turning off the coffee machine.\n"
     ]
    }
   ],
   "source": [
    "#2(a)\n",
    "resources = {\n",
    "    \"water\": 300,  # in ml\n",
    "    \"milk\": 200,   # in ml\n",
    "    \"coffee\": 100, # in grams\n",
    "    \"cups\": 9,\n",
    "    \"money\": 0     # in dollars\n",
    "}\n",
    "\n",
    "menu = {\n",
    "    \"espresso\": {\n",
    "        \"water\": 250,\n",
    "        \"coffee\": 16,\n",
    "        \"milk\": 0,\n",
    "        \"price\": 1.50\n",
    "    },\n",
    "    \"latte\": {\n",
    "        \"water\": 200,\n",
    "        \"coffee\": 24,\n",
    "        \"milk\": 150,\n",
    "        \"price\": 2.50\n",
    "    },\n",
    "    \"cappuccino\": {\n",
    "        \"water\": 250,\n",
    "        \"coffee\": 24,\n",
    "        \"milk\": 100,\n",
    "        \"price\": 3.00\n",
    "    }\n",
    "}\n",
    "\n",
    "while True:\n",
    "    choice = input(\"What would you like? (espresso/latte/cappuccino/report/off): \").lower()\n",
    "    \n",
    "    if choice == \"off\":\n",
    "        print(\"Turning off the coffee machine.\")\n",
    "        break\n",
    "    elif choice == \"report\":\n",
    "        print(\"Current resources:\")\n",
    "        for item, amount in resources.items():\n",
    "            print(\" \", item.capitalize(), \" \", amount)\n",
    "        print()\n",
    "    elif choice in menu:\n",
    "        enough_resources = True\n",
    "        for item, amount in menu[choice].items():\n",
    "            if item != \"price\" and resources[item] < amount:\n",
    "                print(\"Sorry, there is not enough \", item)\n",
    "                enough_resources = False\n",
    "                break\n",
    "        \n",
    "        if enough_resources:\n",
    "            print(\"Please insert coins.\")\n",
    "            quarters = int(input(\"How many quarters? \")) * 0.25\n",
    "            dimes = int(input(\"How many dimes? \")) * 0.10\n",
    "            nickels = int(input(\"How many nickels? \")) * 0.05\n",
    "            pennies = int(input(\"How many pennies? \")) * 0.01\n",
    "            total = quarters + dimes + nickels + pennies\n",
    "            \n",
    "            if total >= menu[choice][\"price\"]:\n",
    "                change = total - menu[choice][\"price\"]\n",
    "                if change > 0:\n",
    "                    print(\"Here is your change: $ \", change)\n",
    "    \n",
    "                for item, amount in menu[choice].items():\n",
    "                    if item != \"price\":\n",
    "                        resources[item] -= amount\n",
    "                resources[\"money\"] += menu[choice][\"price\"]\n",
    "                print(\"Here is your \", choice, \"Enjoy!\")\n",
    "            else:\n",
    "                print(\"Sorry, that's not enough money. Money refunded.\\n\")\n",
    "    else:\n",
    "        print(\"Invalid choice. Please select a valid coffee type.\\n\")"
   ]
  },
  {
   "cell_type": "code",
   "execution_count": null,
   "metadata": {},
   "outputs": [],
   "source": [
    "#2(b)\n",
    "length = input(\"Enter the length of the rectangle: \")\n",
    "width = input(\"Enter the width of the rectangle: \")\n",
    "length = float(length)  \n",
    "width = float(width)    \n",
    "area = length * width\n",
    "perimeter = 2 * (length + width)\n",
    "print(\"Area of the rectangle = \", area)\n",
    "print(\"Perimeter of the rectangle = \", perimeter)"
   ]
  },
  {
   "cell_type": "code",
   "execution_count": 16,
   "metadata": {},
   "outputs": [
    {
     "name": "stdout",
     "output_type": "stream",
     "text": [
      "  pop is a palindrome\n"
     ]
    }
   ],
   "source": [
    "#3(a)\n",
    "input_string = input(\"Enter a string: \")\n",
    "normalized_string = input_string.replace(\" \", \"\").lower()\n",
    "if normalized_string == normalized_string[::-1]:\n",
    "    print(\" \", input_string, \"is a palindrome\")\n",
    "else:\n",
    "    print(\" \", input_string, \"is not a palindrome\")"
   ]
  },
  {
   "cell_type": "code",
   "execution_count": 12,
   "metadata": {},
   "outputs": [
    {
     "name": "stdout",
     "output_type": "stream",
     "text": [
      "Incorrect password. Re-enter your password.\n",
      "Welcome to Gmail after one attempt\n"
     ]
    }
   ],
   "source": [
    "#3(b)\n",
    "username = input(\"Enter your email address\")\n",
    "if '@' in username:\n",
    "    password = input(\"Enter your password: \")\n",
    "    if username == 'warisha@gmail.com' and password == 'warisha@123':\n",
    "        print(\"Welcome to Gmail\")\n",
    "    elif username == 'warisha@gmail.com' and password != 'warisha@123':\n",
    "        print(\"Incorrect password. Re-enter your password.\")\n",
    "        password = input(\"Enter your password again\")\n",
    "        if password == 'warisha@123':\n",
    "            print(\"Welcome to Gmail after one attempt\")\n",
    "        else:\n",
    "            print(\"Your password is incorrect\")\n",
    "    else:\n",
    "        print(\"Enter correct credentials\")\n",
    "else:\n",
    "    print(\"Login has failed\") "
   ]
  },
  {
   "cell_type": "code",
   "execution_count": 3,
   "metadata": {},
   "outputs": [
    {
     "name": "stdout",
     "output_type": "stream",
     "text": [
      "A's method\n",
      "C's method\n",
      "B's method\n",
      "D's method\n",
      "\n",
      "Method Resolution Order (MRO):\n",
      "[<class '__main__.D'>, <class '__main__.B'>, <class '__main__.C'>, <class '__main__.A'>, <class 'object'>]\n"
     ]
    }
   ],
   "source": [
    "#4(a)\n",
    "class A:\n",
    "    def show(self):\n",
    "        print(\"A's method\")\n",
    "\n",
    "class B(A):\n",
    "    def show(self):\n",
    "        super().show()\n",
    "        print(\"B's method\")\n",
    "\n",
    "class C(A):\n",
    "    def show(self):\n",
    "        super().show()\n",
    "        print(\"C's method\")\n",
    "\n",
    "class D(B, C):\n",
    "    def show(self):\n",
    "        super().show()\n",
    "        print(\"D's method\")\n",
    "        \n",
    "d = D()\n",
    "\n",
    "d.show()\n",
    "\n",
    "print(\"\\nMethod Resolution Order (MRO):\")\n",
    "print(D.mro())\n"
   ]
  },
  {
   "cell_type": "code",
   "execution_count": 20,
   "metadata": {},
   "outputs": [
    {
     "name": "stdout",
     "output_type": "stream",
     "text": [
      "  Aleena : Score =  95 Percentage =  95 Grade =  A\n",
      "  Bilal : Score =  82 Percentage =  82 Grade =  B\n",
      "  Ibrahim : Score =  76 Percentage =  76 Grade =  C\n",
      "  Danial : Score =  65 Percentage =  65 Grade =  D\n",
      "  Eva : Score =  58 Percentage =  58 Grade =  F\n"
     ]
    }
   ],
   "source": [
    "#4(b)\n",
    "def grade_students(students_scores):\n",
    "    grades = {}\n",
    "    for student, score in students_scores.items():\n",
    "        percentage = score\n",
    "        if 90 <= percentage <= 100:\n",
    "            grade = 'A'\n",
    "        elif 80 <= percentage < 90:\n",
    "            grade = 'B'\n",
    "        elif 70 <= percentage < 80:\n",
    "            grade = 'C'\n",
    "        elif 60 <= percentage < 70:\n",
    "            grade = 'D'\n",
    "        else:\n",
    "            grade = 'F'\n",
    "\n",
    "        grades[student] = {\n",
    "            'Score': score,\n",
    "            'Percentage': percentage,\n",
    "            'Grade': grade\n",
    "        }\n",
    "    \n",
    "    return grades\n",
    "\n",
    "students_scores = {\n",
    "    'Aleena': 95,\n",
    "    'Bilal': 82,\n",
    "    'Ibrahim': 76,\n",
    "    'Danial': 65,\n",
    "    'Eva': 58\n",
    "}\n",
    "\n",
    "result = grade_students(students_scores)\n",
    "\n",
    "for student, info in result.items():\n",
    "    print(\" \",student, \": Score = \", info['Score'], \"Percentage = \", info['Percentage'], \"Grade = \", info['Grade'])\n"
   ]
  },
  {
   "cell_type": "code",
   "execution_count": 22,
   "metadata": {},
   "outputs": [
    {
     "name": "stdout",
     "output_type": "stream",
     "text": [
      "The product of the dictionary values is:  24\n",
      "The product of the empty dictionary values is:  1\n"
     ]
    }
   ],
   "source": [
    "#5(a)\n",
    "def multiply_dict_values(my_dict):\n",
    "    product = 1\n",
    "    if not my_dict:\n",
    "        return product \n",
    "    \n",
    "    for value in my_dict.values():\n",
    "        product *= value\n",
    "    return product\n",
    "\n",
    "dict = {\n",
    "    'a': 2,\n",
    "    'b': 3,\n",
    "    'c': 4\n",
    "}\n",
    "\n",
    "result = multiply_dict_values(dict)\n",
    "print(\"The product of the dictionary values is: \", result)\n",
    "\n",
    "empty_dict = {}\n",
    "result_empty = multiply_dict_values(empty_dict)\n",
    "print(\"The product of the empty dictionary values is: \", result_empty)\n"
   ]
  },
  {
   "cell_type": "code",
   "execution_count": 26,
   "metadata": {},
   "outputs": [
    {
     "name": "stdout",
     "output_type": "stream",
     "text": [
      "Total Revenue: $  21100\n",
      "\n",
      "Units Sold for Each Product:\n",
      "  Product_Name  Units_Sold\n",
      "0     Widget A         150\n",
      "1     Widget B         120\n",
      "2     Widget C          90\n",
      "3     Widget D          60\n",
      "4     Widget E         200\n",
      "5     Widget F          30\n",
      "6     Widget G         110\n",
      "7     Widget H         140\n",
      "8     Widget I          75\n",
      "9     Widget J          50\n",
      "\n",
      "Average Units Sold per Product:  102.5\n",
      "\n",
      "Product with Highest Revenue:  Widget E $  4000\n",
      "\n",
      "Total Units Sold in Each Region:\n",
      "Region\n",
      "East     200\n",
      "North    425\n",
      "South    200\n",
      "West     200\n",
      "Name: Units_Sold, dtype: int64\n",
      "\n",
      "Salesperson with Highest Total Sales:  Eve $  4000\n",
      "\n",
      "Average Revenue Generated per Sale: $  2110.0\n",
      "\n",
      "Total Units Sold in 'Furniture' Category:  305\n",
      "\n",
      "Sales Distribution Across Different Regions:\n",
      "Region\n",
      "East     4900\n",
      "North    7000\n",
      "South    4600\n",
      "West     4600\n",
      "Name: Revenue, dtype: int64\n",
      "\n",
      "Revenue Trend Over Dates of Sale:\n",
      "Date_of_Sale\n",
      "2024-11-01    1500\n",
      "2024-11-02    2400\n",
      "2024-11-03    2700\n",
      "2024-11-04    1800\n",
      "2024-11-05    4000\n",
      "2024-11-06    1200\n",
      "2024-11-07    2200\n",
      "2024-11-08    2800\n",
      "2024-11-09    1500\n",
      "2024-11-10    1000\n",
      "Name: Revenue, dtype: int64\n"
     ]
    }
   ],
   "source": [
    "#5(b)\n",
    "import pandas as pd\n",
    "\n",
    "data = {\n",
    "    \"Product_ID\": [101, 102, 103, 104, 105, 106, 107, 108, 109, 110],\n",
    "    \"Product_Name\": [\"Widget A\", \"Widget B\", \"Widget C\", \"Widget D\", \"Widget E\",\n",
    "                     \"Widget F\", \"Widget G\", \"Widget H\", \"Widget I\", \"Widget J\"],\n",
    "    \"Category\": [\"Electronics\", \"Electronics\", \"Furniture\", \"Furniture\", \"Electronics\",\n",
    "                 \"Furniture\", \"Electronics\", \"Electronics\", \"Furniture\", \"Furniture\"],\n",
    "    \"Units_Sold\": [150, 120, 90, 60, 200, 30, 110, 140, 75, 50],\n",
    "    \"Revenue\": [1500, 2400, 2700, 1800, 4000, 1200, 2200, 2800, 1500, 1000],\n",
    "    \"Region\": [\"North\", \"South\", \"East\", \"West\", \"North\", \"South\", \"East\", \"West\",\n",
    "               \"North\", \"South\"],\n",
    "    \"Sales_Person\": [\"Alice\", \"Bob\", \"Charlie\", \"David\", \"Eve\", \"Frank\", \"Grace\",\n",
    "                     \"Hannah\", \"Ian\", \"Jack\"],\n",
    "    \"Date_of_Sale\": pd.to_datetime([\"2024-11-01\", \"2024-11-02\", \"2024-11-03\",\n",
    "                                     \"2024-11-04\", \"2024-11-05\", \"2024-11-06\",\n",
    "                                     \"2024-11-07\", \"2024-11-08\", \"2024-11-09\",\n",
    "                                     \"2024-11-10\"])\n",
    "}\n",
    "\n",
    "df = pd.DataFrame(data)\n",
    "\n",
    "total_revenue = df['Revenue'].sum()\n",
    "print(\"Total Revenue: $ \",total_revenue)\n",
    "\n",
    "units_sold = df[['Product_Name', 'Units_Sold']]\n",
    "print(\"\\nUnits Sold for Each Product:\")\n",
    "print(units_sold)\n",
    "\n",
    "average_units_sold = df['Units_Sold'].mean()\n",
    "print(\"\\nAverage Units Sold per Product: \", average_units_sold)\n",
    "\n",
    "highest_revenue_product = df.loc[df['Revenue'].idxmax(), ['Product_Name', 'Revenue']]\n",
    "print(\"\\nProduct with Highest Revenue: \", highest_revenue_product['Product_Name'], \"$ \", highest_revenue_product['Revenue'])\n",
    "\n",
    "units_sold_by_region = df.groupby('Region')['Units_Sold'].sum()\n",
    "print(\"\\nTotal Units Sold in Each Region:\")\n",
    "print(units_sold_by_region)\n",
    "\n",
    "highest_sales_person = df.groupby('Sales_Person')['Revenue'].sum().idxmax()\n",
    "highest_sales_value = df.groupby('Sales_Person')['Revenue'].sum().max()\n",
    "print(\"\\nSalesperson with Highest Total Sales: \", highest_sales_person, \"$ \", highest_sales_value)\n",
    "\n",
    "average_revenue_per_sale = df['Revenue'].mean()\n",
    "print(\"\\nAverage Revenue Generated per Sale: $ \", average_revenue_per_sale)\n",
    "\n",
    "furniture_units_sold = df[df['Category'] == 'Furniture']['Units_Sold'].sum()\n",
    "print(\"\\nTotal Units Sold in 'Furniture' Category: \", furniture_units_sold)\n",
    "\n",
    "sales_distribution = df.groupby('Region')['Revenue'].sum()\n",
    "print(\"\\nSales Distribution Across Different Regions:\")\n",
    "print(sales_distribution)\n",
    "\n",
    "revenue_trend = df.groupby('Date_of_Sale')['Revenue'].sum()\n",
    "print(\"\\nRevenue Trend Over Dates of Sale:\")\n",
    "print(revenue_trend)"
   ]
  }
 ],
 "metadata": {
  "kernelspec": {
   "display_name": "Python 3",
   "language": "python",
   "name": "python3"
  },
  "language_info": {
   "codemirror_mode": {
    "name": "ipython",
    "version": 3
   },
   "file_extension": ".py",
   "mimetype": "text/x-python",
   "name": "python",
   "nbconvert_exporter": "python",
   "pygments_lexer": "ipython3",
   "version": "3.8.8"
  }
 },
 "nbformat": 4,
 "nbformat_minor": 2
}
