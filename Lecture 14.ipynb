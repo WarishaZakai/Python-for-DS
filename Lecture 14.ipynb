{
 "cells": [
  {
   "cell_type": "code",
   "execution_count": 8,
   "metadata": {},
   "outputs": [
    {
     "name": "stdout",
     "output_type": "stream",
     "text": [
      "original list =  [2, 3, 4, 5]\n"
     ]
    },
    {
     "data": {
      "text/plain": [
       "[4, 9, 16, 25]"
      ]
     },
     "execution_count": 8,
     "metadata": {},
     "output_type": "execute_result"
    }
   ],
   "source": [
    "def list_square(num_list):\n",
    "  temp_list = []\n",
    "  for num in num_list:\n",
    "    temp_list.append(num**2)\n",
    "  return temp_list \n",
    "num_list = [2,3,4,5]\n",
    "print(\"original list = \",num_list)\n",
    "list_square(num_list)"
   ]
  },
  {
   "cell_type": "code",
   "execution_count": 9,
   "metadata": {},
   "outputs": [
    {
     "name": "stdout",
     "output_type": "stream",
     "text": [
      "100\n"
     ]
    }
   ],
   "source": [
    "def list_sum(list):\n",
    "    result = 0\n",
    "    for x in list:\n",
    "        result += x\n",
    "    return result\n",
    "list = [10,20,30,40]\n",
    "print(list_sum(list))"
   ]
  },
  {
   "cell_type": "code",
   "execution_count": 14,
   "metadata": {},
   "outputs": [
    {
     "name": "stdout",
     "output_type": "stream",
     "text": [
      "120\n"
     ]
    }
   ],
   "source": [
    "def tuple_product(tuple):\n",
    "    product = 1\n",
    "    for x in tuple:\n",
    "        product *= x\n",
    "    return product\n",
    "tuple = (2,3,4,5)\n",
    "print(tuple_product(tuple))"
   ]
  },
  {
   "cell_type": "code",
   "execution_count": 17,
   "metadata": {},
   "outputs": [],
   "source": [
    "def even(num):\n",
    "    if type(num) == int:\n",
    "        if num % 2 == 0:\n",
    "            return 'even'\n",
    "        else:\n",
    "            return 'odd' \n",
    "    else:\n",
    "        return 'Enter a valid number'"
   ]
  },
  {
   "cell_type": "code",
   "execution_count": 19,
   "metadata": {},
   "outputs": [
    {
     "name": "stdout",
     "output_type": "stream",
     "text": [
      "odd\n",
      "even\n",
      "odd\n",
      "even\n",
      "odd\n",
      "even\n",
      "odd\n",
      "even\n",
      "odd\n",
      "even\n"
     ]
    }
   ],
   "source": [
    "for i in range (1,11):\n",
    "    x = even(i)\n",
    "    print(x)\n",
    "    "
   ]
  },
  {
   "cell_type": "code",
   "execution_count": null,
   "metadata": {},
   "outputs": [],
   "source": [
    "#Types of Arguments:\n",
    "#Default Argument\n",
    "#Positional Argument\n",
    "#Keyword Argument"
   ]
  },
  {
   "cell_type": "code",
   "execution_count": 22,
   "metadata": {},
   "outputs": [],
   "source": [
    "def power(a=1,b=1):\n",
    "    return a**b"
   ]
  },
  {
   "cell_type": "code",
   "execution_count": 26,
   "metadata": {},
   "outputs": [
    {
     "data": {
      "text/plain": [
       "32"
      ]
     },
     "execution_count": 26,
     "metadata": {},
     "output_type": "execute_result"
    }
   ],
   "source": [
    "power(b=5,a=2)"
   ]
  },
  {
   "cell_type": "code",
   "execution_count": 27,
   "metadata": {},
   "outputs": [],
   "source": [
    "def power(c=3.8,b=1):\n",
    "    return c**b"
   ]
  },
  {
   "cell_type": "code",
   "execution_count": 28,
   "metadata": {},
   "outputs": [
    {
     "data": {
      "text/plain": [
       "14.44"
      ]
     },
     "execution_count": 28,
     "metadata": {},
     "output_type": "execute_result"
    }
   ],
   "source": [
    "power(b=2)"
   ]
  },
  {
   "cell_type": "code",
   "execution_count": null,
   "metadata": {},
   "outputs": [],
   "source": [
    "#*args and **kwargs"
   ]
  },
  {
   "cell_type": "code",
   "execution_count": 29,
   "metadata": {},
   "outputs": [],
   "source": [
    "def product(*args):\n",
    "    product = 1\n",
    "    for i in args:\n",
    "        product *= i\n",
    "    print(args)\n",
    "    return product"
   ]
  },
  {
   "cell_type": "code",
   "execution_count": 31,
   "metadata": {},
   "outputs": [
    {
     "name": "stdout",
     "output_type": "stream",
     "text": [
      "(2, 3, 4, 5, 2, 3, 4, 5, 2, 3, 4, 5)\n"
     ]
    },
    {
     "data": {
      "text/plain": [
       "1728000"
      ]
     },
     "execution_count": 31,
     "metadata": {},
     "output_type": "execute_result"
    }
   ],
   "source": [
    "product(2,3,4,5,2,3,4,5,2,3,4,5)"
   ]
  },
  {
   "cell_type": "code",
   "execution_count": 35,
   "metadata": {},
   "outputs": [
    {
     "name": "stdout",
     "output_type": "stream",
     "text": [
      "('Warisha', 'Engineer', 'Female', '23')\n"
     ]
    }
   ],
   "source": [
    "def user_details(*args):\n",
    "    print(args)  \n",
    "fullname = input(\"Enter your Name\")\n",
    "profession = input(\"Enter your profession\")\n",
    "gender = input(\"Enter your gender\")\n",
    "age = input(\"Enter your Age\")\n",
    "user_details(fullname,profession,gender,age)"
   ]
  },
  {
   "cell_type": "code",
   "execution_count": null,
   "metadata": {},
   "outputs": [
    {
     "name": "stdout",
     "output_type": "stream",
     "text": [
      "{'fullname': 'Warisha', 'profession': 'Enginner', 'gender': 'Female', 'age': '23'}\n",
      "{}\n"
     ]
    }
   ],
   "source": [
    "def user_details(**kwargs):\n",
    "    print(kwargs)  \n",
    "fullname = input(\"Enter your Name\")\n",
    "profession = input(\"Enter your profession\")\n",
    "gender = input(\"Enter your gender\")\n",
    "age = input(\"Enter your Age\")\n",
    "user_details(fullname=fullname,profession=profession,gender=gender,age=age)"
   ]
  },
  {
   "cell_type": "code",
   "execution_count": 5,
   "metadata": {},
   "outputs": [],
   "source": [
    "def capitals_of_country(**kwargs):\n",
    "    for key,value in kwargs.items():\n",
    "        print(key,'----->',value)"
   ]
  },
  {
   "cell_type": "code",
   "execution_count": 6,
   "metadata": {},
   "outputs": [
    {
     "name": "stdout",
     "output_type": "stream",
     "text": [
      "Pakistan -----> Islamabad\n",
      "India -----> Delhi\n",
      "Bangladesh -----> Dhaka\n"
     ]
    }
   ],
   "source": [
    "capitals_of_country(Pakistan='Islamabad',India='Delhi',Bangladesh='Dhaka')"
   ]
  }
 ],
 "metadata": {
  "kernelspec": {
   "display_name": "Python 3",
   "language": "python",
   "name": "python3"
  },
  "language_info": {
   "codemirror_mode": {
    "name": "ipython",
    "version": 3
   },
   "file_extension": ".py",
   "mimetype": "text/x-python",
   "name": "python",
   "nbconvert_exporter": "python",
   "pygments_lexer": "ipython3",
   "version": "3.8.8"
  }
 },
 "nbformat": 4,
 "nbformat_minor": 2
}
