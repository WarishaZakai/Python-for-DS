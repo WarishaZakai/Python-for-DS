{
 "cells": [
  {
   "cell_type": "code",
   "execution_count": 3,
   "metadata": {},
   "outputs": [
    {
     "name": "stdout",
     "output_type": "stream",
     "text": [
      "Username is good\n"
     ]
    }
   ],
   "source": [
    "user_name = input(\"Enter your name\")\n",
    "if len(user_name) > 10:\n",
    "   print(\"Username is too big\")\n",
    "elif len(user_name) == 10:\n",
    "    print(\"Username is moderate\")\n",
    "else:\n",
    "    print(\"Username is good\")"
   ]
  },
  {
   "cell_type": "code",
   "execution_count": 4,
   "metadata": {},
   "outputs": [
    {
     "name": "stdout",
     "output_type": "stream",
     "text": [
      "First number is the greatest\n"
     ]
    }
   ],
   "source": [
    "num1 = int(input(\"Enter first number\"))\n",
    "num2 = int(input(\"Enter second number\"))\n",
    "num3 = int(input(\"Enter third number\"))\n",
    "if num1 > num2 and num1 > num3:\n",
    "    print(\"First number is the greatest\")\n",
    "elif num2 > num3:\n",
    "    print(\"Second number is the greatest\")\n",
    "else:\n",
    "    print(\"Third number is the greatest\")"
   ]
  },
  {
   "cell_type": "code",
   "execution_count": null,
   "metadata": {},
   "outputs": [
    {
     "name": "stdout",
     "output_type": "stream",
     "text": [
      "Enter a valid number.\n"
     ]
    }
   ],
   "source": [
    "user_input = input(\"Enter a number: \")\n",
    "\n",
    "if user_input.replace(\".\",\"\").replace(\"-\",\"\").replace(\"+\",\"\").isdigit():\n",
    "    num = float(user_input)\n",
    "    if num > 0:\n",
    "        print(\"The number is positive.\")\n",
    "    elif num == 0:\n",
    "        print(\"The number is zero.\")\n",
    "    else:\n",
    "        print(\"The number is negative.\")\n",
    "else:\n",
    "    print(\"Enter a valid number.\")"
   ]
  }
 ],
 "metadata": {
  "kernelspec": {
   "display_name": "Python 3",
   "language": "python",
   "name": "python3"
  },
  "language_info": {
   "codemirror_mode": {
    "name": "ipython",
    "version": 3
   },
   "file_extension": ".py",
   "mimetype": "text/x-python",
   "name": "python",
   "nbconvert_exporter": "python",
   "pygments_lexer": "ipython3",
   "version": "3.8.8"
  }
 },
 "nbformat": 4,
 "nbformat_minor": 2
}
