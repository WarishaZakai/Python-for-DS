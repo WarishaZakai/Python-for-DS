{
 "cells": [
  {
   "cell_type": "code",
   "execution_count": null,
   "metadata": {},
   "outputs": [],
   "source": [
    "#Mid Term Exam Batch 9 Data Science & AI\n",
    "#Name: Warisha Zakai\n",
    "#profession: PGD\n",
    "#organization: NED Academy\n",
    "#contact No: 03082016603\n",
    "#Email: warisha.zakai@gmail.com"
   ]
  },
  {
   "cell_type": "code",
   "execution_count": 73,
   "metadata": {},
   "outputs": [
    {
     "name": "stdout",
     "output_type": "stream",
     "text": [
      "fruits =  ['apple', 'banana', 'cherry', 'date', 'elderberry']\n",
      "fruits =  ['apple', 'cherry', 'date', 'elderberry']\n",
      "fruits =  ['apple', 'cherry', 'elderberry']\n"
     ]
    }
   ],
   "source": [
    "#QS1\n",
    "fruits = ['apple', 'banana', 'cherry', 'date']\n",
    "#(a) Method fruits.append('elderberry') adds 'elderberry' as the last item in the list.\n",
    "#(b) Method fruits.remove('banana') removes 'banana' from the list.\n",
    "#(c) Output of fruits.pop(2) is that the item ot index 2 that is date is removed or popped out. After this the list will look like ['apple', 'cherry', 'elderberry'].\n",
    "fruits.append('elderberry')\n",
    "print('fruits = ', fruits)\n",
    "fruits.remove('banana')\n",
    "print('fruits = ', fruits)\n",
    "fruits.pop(2)\n",
    "print('fruits = ', fruits)\n"
   ]
  },
  {
   "cell_type": "code",
   "execution_count": null,
   "metadata": {},
   "outputs": [
    {
     "name": "stdout",
     "output_type": "stream",
     "text": [
      "Hello Warisha you are 23 years old.\n"
     ]
    }
   ],
   "source": [
    "#Qs2\n",
    "name = input(\"Enter your name\")\n",
    "age = input(\"Enter your age\")\n",
    "print(\"Hello\", name, \"you are\", age, \"years old.\")"
   ]
  },
  {
   "cell_type": "code",
   "execution_count": 74,
   "metadata": {},
   "outputs": [
    {
     "name": "stdout",
     "output_type": "stream",
     "text": [
      "num =  3\n",
      "The number is positive.\n"
     ]
    }
   ],
   "source": [
    "#Qs3\n",
    "num = input(\"Enter a number: \")\n",
    "print('num = ', num)\n",
    "if num.replace(\".\",\"\").replace(\"-\",\"\").replace(\"+\",\"\").isdigit():\n",
    "  # Check if input is a digit\n",
    "    number = float(num)\n",
    "    if number > 0:\n",
    "        print(\"The number is positive.\")\n",
    "    elif number == 0:\n",
    "        print(\"The number is zero.\")\n",
    "    else:\n",
    "        print(\"The number is negative.\")\n",
    "else:\n",
    "    print(\"Enter a valid number.\")"
   ]
  },
  {
   "cell_type": "code",
   "execution_count": 78,
   "metadata": {},
   "outputs": [
    {
     "data": {
      "text/plain": [
       "1.4166666666666667"
      ]
     },
     "execution_count": 78,
     "metadata": {},
     "output_type": "execute_result"
    }
   ],
   "source": [
    "#Qs4\n",
    "2 - 5 + ((17 / 3) / 4) + 3"
   ]
  },
  {
   "cell_type": "code",
   "execution_count": null,
   "metadata": {},
   "outputs": [
    {
     "name": "stdout",
     "output_type": "stream",
     "text": [
      "Diameter =  15\n",
      "Area of circle =  176.7144375\n",
      "Circumference of a circle =  47.12385\n"
     ]
    }
   ],
   "source": [
    "#Qs5\n",
    "#(i)\n",
    "diameter = 15 #meters\n",
    "print('Diameter = ',diameter)\n",
    "pi = 3.14159\n",
    "area_of_circle = 0.25 * pi * (diameter ** 2)\n",
    "print('Area of circle = ',area_of_circle)\n",
    "#(ii)\n",
    "circum_of_circle = pi * diameter\n",
    "print('Circumference of a circle = ',circum_of_circle )\n"
   ]
  },
  {
   "cell_type": "code",
   "execution_count": null,
   "metadata": {},
   "outputs": [
    {
     "name": "stdout",
     "output_type": "stream",
     "text": [
      "Diameter =  10.0\n",
      "Area of circle =  78.53975\n"
     ]
    }
   ],
   "source": [
    "#(iii)\n",
    "diameter = float(input('Enter diameter of circle in meters'))\n",
    "print('Diameter = ',diameter)\n",
    "pi = 3.14159\n",
    "area_of_circle = 0.25 * pi * (diameter ** 2)\n",
    "print('Area of circle = ',area_of_circle)"
   ]
  },
  {
   "cell_type": "code",
   "execution_count": null,
   "metadata": {},
   "outputs": [
    {
     "name": "stdout",
     "output_type": "stream",
     "text": [
      "cost of lying = $ 5000\n",
      "number if people signed up =  29\n",
      "price per ticket = $ 200\n",
      "total revenue = $ 5800\n",
      "profit made by the company = $ 800\n"
     ]
    }
   ],
   "source": [
    "#Qs6\n",
    "cost_of_flying = 5000  #$\n",
    "print('cost of lying = $',cost_of_flying)\n",
    "number_of_people_signed_up = 29  \n",
    "print('number if people signed up = ',number_of_people_signed_up)\n",
    "price_per_ticket = 200  #$\n",
    "print('price per ticket = $',price_per_ticket)\n",
    "total_revenue = number_of_people_signed_up * price_per_ticket\n",
    "print('total revenue = $',total_revenue)\n",
    "profit = total_revenue - cost_of_flying\n",
    "print('profit made by the company = $',profit)"
   ]
  },
  {
   "cell_type": "code",
   "execution_count": 54,
   "metadata": {},
   "outputs": [
    {
     "name": "stdout",
     "output_type": "stream",
     "text": [
      "Welcome to Gmail\n"
     ]
    }
   ],
   "source": [
    "#Qs8\n",
    "username = input(\"Enter your email address\")\n",
    "if '@' in username:\n",
    "    password = input(\"Enter your password: \")\n",
    "    if username == 'ahmed@gmail.com' and password == 'ahmed@321':\n",
    "        print(\"Welcome to Gmail\")\n",
    "    elif username == 'ahmed@gmail.com' and password != 'ahmed@321':\n",
    "        print(\"Incorrect password. Re-enter your password.\")\n",
    "        password = input(\"Enter your password again\")\n",
    "        if password == 'ahmed@321':\n",
    "            print(\"Welcome to Gmail after one attempt\")\n",
    "        else:\n",
    "            print(\"Your password is incorrect\")\n",
    "    else:\n",
    "        print(\"Enter correct credentials\")\n",
    "\n",
    "else:\n",
    "    print(\"Login has failed\") "
   ]
  },
  {
   "cell_type": "code",
   "execution_count": 76,
   "metadata": {},
   "outputs": [
    {
     "name": "stdout",
     "output_type": "stream",
     "text": [
      "coordinates =  (12.5, 45.8, 33.1)\n",
      "x =  12.5\n",
      "y =  45.8\n",
      "z =  33.1\n"
     ]
    }
   ],
   "source": [
    "#Qs9(a)\n",
    "#(i)\n",
    "coordinates = (12.5, 45.8, 33.1)\n",
    "print('coordinates = ', coordinates)\n",
    "(x, y, z) = coordinates\n",
    "print('x = ', x)\n",
    "print('y = ', y)\n",
    "print('z = ', z)\n",
    "#(ii)\n",
    "#Immutability: Tuples are immutable, meaning once they are created, their values cannot be changed. This property makes tuples safer to use when you want to ensure that the data remains constant throughout the program. Lists, on the other hand, are mutable and can be modified, which can lead to unintended side effects if not managed carefully.\n",
    "#Performance: Tuples can be more memory-efficient than lists. Since they are immutable, they require less overhead for storage and can be optimized by Python's memory management"
   ]
  },
  {
   "cell_type": "code",
   "execution_count": 77,
   "metadata": {},
   "outputs": [
    {
     "name": "stdout",
     "output_type": "stream",
     "text": [
      "student_scores =  {'Ali': 85, 'Saima': 90, 'Kabeer': 78}\n",
      "student_scores =  {'Ali': 85, 'Saima': 90, 'Kabeer': 78, 'Ahmed': 92}\n",
      "student_scores =  {'Ali': 85, 'Saima': 90, 'Kabeer': 82, 'Ahmed': 92}\n"
     ]
    }
   ],
   "source": [
    "#Qs9(b)\n",
    "#(i)\n",
    "student_scores = {'Ali': 85, 'Saima': 90, 'Kabeer': 78}\n",
    "print('student_scores = ', student_scores)\n",
    "student_scores.update({\"Ahmed\": 92})\n",
    "print('student_scores = ', student_scores)\n",
    "#(ii)\n",
    "student_scores.update({\"Kabeer\": 82})\n",
    "print('student_scores = ', student_scores)"
   ]
  }
 ],
 "metadata": {
  "kernelspec": {
   "display_name": "Python 3",
   "language": "python",
   "name": "python3"
  },
  "language_info": {
   "codemirror_mode": {
    "name": "ipython",
    "version": 3
   },
   "file_extension": ".py",
   "mimetype": "text/x-python",
   "name": "python",
   "nbconvert_exporter": "python",
   "pygments_lexer": "ipython3",
   "version": "3.8.8"
  }
 },
 "nbformat": 4,
 "nbformat_minor": 2
}
