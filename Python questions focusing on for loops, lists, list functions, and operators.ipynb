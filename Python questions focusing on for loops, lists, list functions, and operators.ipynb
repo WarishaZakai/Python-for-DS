{
 "cells": [
  {
   "cell_type": "code",
   "execution_count": null,
   "metadata": {},
   "outputs": [
    {
     "name": "stdout",
     "output_type": "stream",
     "text": [
      "1\n",
      "2\n",
      "3\n",
      "4\n",
      "5\n",
      "6\n",
      "7\n",
      "8\n",
      "9\n",
      "10\n"
     ]
    }
   ],
   "source": [
    "#1\n",
    "for num in range (1,11):\n",
    "    print(num)"
   ]
  },
  {
   "cell_type": "code",
   "execution_count": 5,
   "metadata": {},
   "outputs": [
    {
     "name": "stdout",
     "output_type": "stream",
     "text": [
      "1\n",
      "2\n",
      "3\n",
      "4\n",
      "5\n"
     ]
    }
   ],
   "source": [
    "#2\n",
    "numbers = [1,2,3,4,5]\n",
    "for nums in numbers:\n",
    "    print(nums)"
   ]
  },
  {
   "cell_type": "code",
   "execution_count": 42,
   "metadata": {},
   "outputs": [
    {
     "name": "stdout",
     "output_type": "stream",
     "text": [
      "Sum of list =  100\n"
     ]
    }
   ],
   "source": [
    "#3\n",
    "list_of_numbers = [10,20,30,40]\n",
    "sum = 0\n",
    "for x in list_of_numbers:\n",
    "    sum += x\n",
    "print(\"Sum of list = \",sum)"
   ]
  },
  {
   "cell_type": "code",
   "execution_count": 22,
   "metadata": {},
   "outputs": [
    {
     "name": "stdout",
     "output_type": "stream",
     "text": [
      " Welcome to Jupiter Notebook\n"
     ]
    }
   ],
   "source": [
    "#4\n",
    "list_of_strings =  ['Welcome', ' to', ' Jupiter', ' Notebook']\n",
    "concatenated_strings = ' '\n",
    "for string in list_of_strings:\n",
    "    concatenated_strings += string\n",
    "print(concatenated_strings)"
   ]
  },
  {
   "cell_type": "code",
   "execution_count": 43,
   "metadata": {},
   "outputs": [
    {
     "name": "stdout",
     "output_type": "stream",
     "text": [
      "Largest number in the list =  50\n"
     ]
    }
   ],
   "source": [
    "#5\n",
    "list_numbers = [20,30,40,50]\n",
    "largest_number = list_numbers[0]\n",
    "for number in list_numbers:\n",
    "    if number > largest_number:\n",
    "        largest_number = number\n",
    "print(\"Largest number in the list = \", largest_number)"
   ]
  },
  {
   "cell_type": "code",
   "execution_count": 44,
   "metadata": {},
   "outputs": [
    {
     "name": "stdout",
     "output_type": "stream",
     "text": [
      "Squares list =  [1, 4, 9, 16, 25, 36, 49, 64, 81, 100]\n"
     ]
    }
   ],
   "source": [
    "#6\n",
    "num_list = [1,2,3,4,5,6,7,8,9,10]\n",
    "temp_list = []\n",
    "for num in num_list:\n",
    "    temp_list.append(num**2)\n",
    "print(\"Squares list = \", temp_list)"
   ]
  },
  {
   "cell_type": "code",
   "execution_count": 45,
   "metadata": {},
   "outputs": [
    {
     "name": "stdout",
     "output_type": "stream",
     "text": [
      "Even list =  [2, 10, 12]\n"
     ]
    }
   ],
   "source": [
    "#7\n",
    "num_list = [2,5,7,9,10,12]\n",
    "even_list = []\n",
    "for num in num_list:\n",
    "    if num % 2 == 0:\n",
    "        even_list.append(num)\n",
    "print(\"Even list = \", even_list)"
   ]
  },
  {
   "cell_type": "code",
   "execution_count": 46,
   "metadata": {},
   "outputs": [
    {
     "name": "stdout",
     "output_type": "stream",
     "text": [
      "Element-wise list =  [20, 30, 40, 50, 60, 70, 80, 90]\n"
     ]
    }
   ],
   "source": [
    "#8\n",
    "num1 = [20,30,40,50]\n",
    "num2 = [60,70,80,90]\n",
    "combined_list = num1 + num2\n",
    "combined_list.sort()\n",
    "print(\"Element-wise list = \", combined_list)"
   ]
  },
  {
   "cell_type": "code",
   "execution_count": 47,
   "metadata": {},
   "outputs": [
    {
     "name": "stdout",
     "output_type": "stream",
     "text": [
      "Length of strings =  [5, 7, 6, 7]\n"
     ]
    }
   ],
   "source": [
    "#9\n",
    "strings = ['hello', 'welcome', 'python', 'jupiter']\n",
    "length_of_strings = []\n",
    "for string in strings:\n",
    "    length_of_strings.append(len(string))\n",
    "print(\"Length of strings = \", length_of_strings)"
   ]
  },
  {
   "cell_type": "code",
   "execution_count": 49,
   "metadata": {},
   "outputs": [
    {
     "name": "stdout",
     "output_type": "stream",
     "text": [
      "1\n",
      "3\n",
      "5\n",
      "7\n",
      "9\n"
     ]
    }
   ],
   "source": [
    "#10\n",
    "num_list = [1,2,3,4,5,6,7,8,9,10]\n",
    "for num in range(1,11,2):\n",
    "    print(num)"
   ]
  }
 ],
 "metadata": {
  "kernelspec": {
   "display_name": "Python 3",
   "language": "python",
   "name": "python3"
  },
  "language_info": {
   "codemirror_mode": {
    "name": "ipython",
    "version": 3
   },
   "file_extension": ".py",
   "mimetype": "text/x-python",
   "name": "python",
   "nbconvert_exporter": "python",
   "pygments_lexer": "ipython3",
   "version": "3.8.8"
  }
 },
 "nbformat": 4,
 "nbformat_minor": 2
}
