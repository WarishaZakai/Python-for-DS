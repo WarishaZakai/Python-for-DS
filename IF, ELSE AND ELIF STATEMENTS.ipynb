{
 "cells": [
  {
   "cell_type": "code",
   "execution_count": 5,
   "metadata": {},
   "outputs": [
    {
     "name": "stdout",
     "output_type": "stream",
     "text": [
      "Number is not divisble by 3\n"
     ]
    }
   ],
   "source": [
    "#1\n",
    "num = int(input(\"Enter a number\"))\n",
    "if num % 3 == 0:\n",
    "    print(\"Number is divisible by 3\")\n",
    "else:\n",
    "    print(\"Number is not divisble by 3\")"
   ]
  },
  {
   "cell_type": "code",
   "execution_count": null,
   "metadata": {},
   "outputs": [
    {
     "name": "stdout",
     "output_type": "stream",
     "text": [
      "The number is even\n"
     ]
    }
   ],
   "source": [
    "#2\n",
    "number = int(input(\"Enter a number\"))\n",
    "if number % 2 == 0:\n",
    "    print(\"The number is even\")\n",
    "else:\n",
    "    print(\"The number is odd\")"
   ]
  },
  {
   "cell_type": "code",
   "execution_count": 11,
   "metadata": {},
   "outputs": [
    {
     "name": "stdout",
     "output_type": "stream",
     "text": [
      "Old enough\n"
     ]
    }
   ],
   "source": [
    "#3\n",
    "age = int(input(\"Enter your age\"))\n",
    "if age > 18:\n",
    "    print(\"Old enough\")\n",
    "else:\n",
    "    print(\"Too young\")"
   ]
  },
  {
   "cell_type": "code",
   "execution_count": 15,
   "metadata": {},
   "outputs": [
    {
     "name": "stdout",
     "output_type": "stream",
     "text": [
      "Warm welcome\n"
     ]
    }
   ],
   "source": [
    "#4\n",
    "name = input(\"Enter your name\")\n",
    "if name == \"warisha\":\n",
    "    print(\"Warm welcome\")\n",
    "else:\n",
    "    print()"
   ]
  },
  {
   "cell_type": "code",
   "execution_count": 22,
   "metadata": {},
   "outputs": [
    {
     "name": "stdout",
     "output_type": "stream",
     "text": [
      "2024 is a leap year.\n"
     ]
    }
   ],
   "source": [
    "#5\n",
    "year = int(input(\"Enter the year(YYYY): \"))\n",
    "if (year % 4 == 0 and year % 100 != 0) or (year % 400 == 0):\n",
    "    print(year, \"is a leap year.\")\n",
    "else:\n",
    "    print(year, \"is not a leap year.\")"
   ]
  },
  {
   "cell_type": "code",
   "execution_count": null,
   "metadata": {},
   "outputs": [
    {
     "name": "stdout",
     "output_type": "stream",
     "text": [
      "Both number are equal\n"
     ]
    }
   ],
   "source": [
    "#6\n",
    "num1 = int(input(\"Enter first number\"))\n",
    "num2 = int(input(\"Enter second number\"))\n",
    "if num1 > num2:\n",
    "    print(\"First number is larger\")\n",
    "elif num2 > num1:\n",
    "    print(\"Second number is larger\")\n",
    "else:\n",
    "    print(\"Both numbers are equal\") "
   ]
  },
  {
   "cell_type": "code",
   "execution_count": null,
   "metadata": {},
   "outputs": [
    {
     "name": "stdout",
     "output_type": "stream",
     "text": [
      "Number is zero\n"
     ]
    }
   ],
   "source": [
    "#7\n",
    "user_input = float(input(\"Enter your Number\"))\n",
    "if user_input > 0:\n",
    "    print(\"Number is positive\")\n",
    "elif user_input < 0:\n",
    "    print(\"Number is negative\")\n",
    "else:\n",
    "    print(\"Number is zero\")\n"
   ]
  },
  {
   "cell_type": "code",
   "execution_count": 34,
   "metadata": {},
   "outputs": [
    {
     "name": "stdout",
     "output_type": "stream",
     "text": [
      "True\n"
     ]
    }
   ],
   "source": [
    "#8\n",
    "character = input(\"Enter a character: \")\n",
    "if len(character) != 1:\n",
    "    print(\"Please enter a single character.\")\n",
    "else:\n",
    "    if character.lower() in 'aeiou':\n",
    "        print(True)  \n",
    "    else:\n",
    "        print(False)  "
   ]
  },
  {
   "cell_type": "code",
   "execution_count": 37,
   "metadata": {},
   "outputs": [
    {
     "name": "stdout",
     "output_type": "stream",
     "text": [
      "Old enough\n"
     ]
    }
   ],
   "source": [
    "#9\n",
    "age = int(input(\"Enter your age: \"))\n",
    "voteable = \"Too young\" \n",
    "if age < 18:\n",
    "    voteable = \"Too young\" \n",
    "else:\n",
    "    voteable = \"Old enough\"\n",
    "print(voteable)"
   ]
  },
  {
   "cell_type": "code",
   "execution_count": 40,
   "metadata": {},
   "outputs": [
    {
     "name": "stdout",
     "output_type": "stream",
     "text": [
      "Correct! The password you entered matches the original password\n"
     ]
    }
   ],
   "source": [
    "#10\n",
    "password = \"abc123\"\n",
    "user_password = input(\"Enter the password\")\n",
    "if not user_password:\n",
    "    print(\"Please enter password\")\n",
    "else: \n",
    "    if user_password == password:\n",
    "        print(\"Correct! The password you entered matches the original password\")\n",
    "    else:\n",
    "        print(\"Incorrect password\")"
   ]
  },
  {
   "cell_type": "code",
   "execution_count": 41,
   "metadata": {},
   "outputs": [
    {
     "name": "stdout",
     "output_type": "stream",
     "text": [
      "Good evening\n"
     ]
    }
   ],
   "source": [
    "#11\n",
    "time = int(input(\"Enter time in 24-hour clock format\"))\n",
    "if time >= 0000 and time < 1200:\n",
    "    print(\"Goof morning!\")\n",
    "elif time >= 1200 and time < 1700:\n",
    "    print(\"Good afternoon\")\n",
    "elif time >= 1700 and time < 2100:\n",
    "    print(\"Good evening\") \n",
    "elif time >= 2100 and time <= 2359:\n",
    "    print(\"Good night\")\n",
    "else:\n",
    "    print(\"Please enter time in between 0000 to 2359\")\n",
    "\n"
   ]
  }
 ],
 "metadata": {
  "kernelspec": {
   "display_name": "Python 3",
   "language": "python",
   "name": "python3"
  },
  "language_info": {
   "codemirror_mode": {
    "name": "ipython",
    "version": 3
   },
   "file_extension": ".py",
   "mimetype": "text/x-python",
   "name": "python",
   "nbconvert_exporter": "python",
   "pygments_lexer": "ipython3",
   "version": "3.8.8"
  }
 },
 "nbformat": 4,
 "nbformat_minor": 2
}
