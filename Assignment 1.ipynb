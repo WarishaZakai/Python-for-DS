{
 "cells": [
  {
   "cell_type": "code",
   "execution_count": 16,
   "metadata": {},
   "outputs": [
    {
     "name": "stdout",
     "output_type": "stream",
     "text": [
      "First name:  Warisha\n",
      "Last name:  Zakai\n",
      "Length of first name:  7\n",
      "Length of last name:  5\n",
      "Your first name is longer than your last name.\n"
     ]
    }
   ],
   "source": [
    "first_name = 'Warisha'\n",
    "last_name = 'Zakai'\n",
    "print('First name: ',first_name)\n",
    "print('Last name: ',last_name)\n",
    "print('Length of first name: ',len(first_name))\n",
    "print('Length of last name: ',len(last_name))\n",
    "if len(first_name) > len(last_name):\n",
    "    result = \"Your first name is longer than your last name.\"\n",
    "elif len(first_name) < len(last_name):\n",
    "    result = \"Your first name is shorter than your last name.\"\n",
    "else:\n",
    "    result = \"Your first name is the same length as your last name.\"\n",
    "print(result)"
   ]
  },
  {
   "cell_type": "code",
   "execution_count": 8,
   "metadata": {},
   "outputs": [
    {
     "name": "stdout",
     "output_type": "stream",
     "text": [
      "5\n",
      "4\n",
      "total =  9\n",
      "diff =  1\n",
      "product =  20\n",
      "division =  1.25\n",
      "variable_remainder =  4\n",
      "variable_exp =  625\n",
      "floor_division =  1\n"
     ]
    }
   ],
   "source": [
    "num_one = 5\n",
    "num_two = 4\n",
    "print(num_one)\n",
    "print(num_two)\n",
    "total = num_one + num_two\n",
    "print('total = ',total)\n",
    "diff = num_one - num_two\n",
    "print('diff = ',diff)\n",
    "product = num_two * num_one\n",
    "print('product = ',product)\n",
    "division = num_one / num_two\n",
    "print('division = ',division)\n",
    "variable_remainder = num_two % num_one\n",
    "print('variable_remainder = ',variable_remainder)\n",
    "variable_exp = num_one ** num_two\n",
    "print('variable_exp = ',variable_exp)\n",
    "floor_division = num_one // num_two\n",
    "print('floor_division = ',floor_division)"
   ]
  },
  {
   "cell_type": "code",
   "execution_count": 28,
   "metadata": {},
   "outputs": [
    {
     "name": "stdout",
     "output_type": "stream",
     "text": [
      "Radius =  30\n",
      "Area of circle =  2827.431\n",
      "Circumference of a circle =  188.4954\n"
     ]
    }
   ],
   "source": [
    "radius = 30 #meters\n",
    "print('Radius = ',radius)\n",
    "pi = 3.14159\n",
    "area_of_circle = pi * (radius ** 2)\n",
    "print('Area of circle = ',area_of_circle)\n",
    "circum_of_circle = 2 * pi * radius\n",
    "print('Circumference of a circle = ',circum_of_circle )\n"
   ]
  },
  {
   "cell_type": "code",
   "execution_count": 18,
   "metadata": {},
   "outputs": [
    {
     "name": "stdout",
     "output_type": "stream",
     "text": [
      "Radius =  20.0\n",
      "Area of circle =  1256.636\n"
     ]
    }
   ],
   "source": [
    "radius = float(input('Enter radius of circle in meters'))\n",
    "print('Radius = ',radius)\n",
    "pi = 3.14159\n",
    "area_of_circle = pi * (radius ** 2)\n",
    "print('Area of circle = ',area_of_circle)"
   ]
  },
  {
   "cell_type": "code",
   "execution_count": 19,
   "metadata": {},
   "outputs": [
    {
     "name": "stdout",
     "output_type": "stream",
     "text": [
      "selling price per bag = $ 1.25\n",
      "profit percetage =  0.2\n",
      "number of bags sold =  500\n",
      "profit per bag = $ 0.25\n",
      "total profit made from selling 500 bags of ice: $ 125.0\n"
     ]
    }
   ],
   "source": [
    "selling_price_per_bag = 1.25  #$\n",
    "print('selling price per bag = $',selling_price_per_bag)\n",
    "profit_percentage = 0.20      #20% \n",
    "print('profit percetage = ',profit_percentage)\n",
    "number_of_bags_sold = 500   \n",
    "print('number of bags sold = ',number_of_bags_sold)   \n",
    "profit_per_bag = selling_price_per_bag * profit_percentage\n",
    "print('profit per bag = $',profit_per_bag)\n",
    "total_profit = profit_per_bag * number_of_bags_sold\n",
    "print('total profit made from selling 500 bags of ice: $',total_profit)\n"
   ]
  },
  {
   "cell_type": "code",
   "execution_count": 8,
   "metadata": {},
   "outputs": [
    {
     "name": "stdout",
     "output_type": "stream",
     "text": [
      "cost of lying = $ 5000\n",
      "number if people signed up =  29\n",
      "price per ticket = $ 200\n",
      "total revenue = $ 5800\n",
      "profit made by the company = $ 800\n"
     ]
    }
   ],
   "source": [
    "cost_of_flying = 5000  #$\n",
    "print('cost of lying = $',cost_of_flying)\n",
    "number_of_people_signed_up = 29  \n",
    "print('number if people signed up = ',number_of_people_signed_up)\n",
    "price_per_ticket = 200  #$\n",
    "print('price per ticket = $',price_per_ticket)\n",
    "total_revenue = number_of_people_signed_up * price_per_ticket\n",
    "print('total revenue = $',total_revenue)\n",
    "profit = total_revenue - cost_of_flying\n",
    "print('profit made by the company = $',profit)"
   ]
  }
 ],
 "metadata": {
  "kernelspec": {
   "display_name": "Python 3",
   "language": "python",
   "name": "python3"
  },
  "language_info": {
   "codemirror_mode": {
    "name": "ipython",
    "version": 3
   },
   "file_extension": ".py",
   "mimetype": "text/x-python",
   "name": "python",
   "nbconvert_exporter": "python",
   "pygments_lexer": "ipython3",
   "version": "3.8.8"
  }
 },
 "nbformat": 4,
 "nbformat_minor": 2
}
