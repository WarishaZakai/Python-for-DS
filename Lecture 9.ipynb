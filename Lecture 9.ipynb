{
 "cells": [
  {
   "cell_type": "code",
   "execution_count": 10,
   "metadata": {},
   "outputs": [
    {
     "name": "stdout",
     "output_type": "stream",
     "text": [
      "Incorrect password. Re-enter your password.\n",
      "Welcome to Gmail after one attempt\n"
     ]
    }
   ],
   "source": [
    "username = input(\"Enter you email address\")\n",
    "password = input(\"Enter your password\")\n",
    "if username == 'abc@gmail.com' and password == '12345':\n",
    "    print(\"Welcome to Gmail\")\n",
    "elif username == 'abc@gmail.com' and password != '12345':\n",
    "    print(\"Incorrect password. Re-enter your password.\")\n",
    "    password = input(\"Enter your password again\")\n",
    "    if password == '12345':\n",
    "        print(\"Welcome to Gmail after one attempt\")\n",
    "    else:\n",
    "        print(\"Your password is incorrect\")\n",
    "else:\n",
    "    print(\"Enter correct credentials\")\n"
   ]
  },
  {
   "cell_type": "code",
   "execution_count": 6,
   "metadata": {},
   "outputs": [
    {
     "name": "stdout",
     "output_type": "stream",
     "text": [
      "Enter valid email address\n"
     ]
    }
   ],
   "source": [
    "username = input(\"Enter your email address\")\n",
    "if '@' in username:\n",
    "    password = input(\"Enter your password: \")\n",
    "    if username == 'abc@gmail.com' and password == '12345':\n",
    "        print(\"Welcome to Gmail\")\n",
    "    elif username == 'abc@gmail.com' and password != '12345':\n",
    "        print(\"Incorrect password. Re-enter your password.\")\n",
    "        password = print(input(\"Enter your password again\"))\n",
    "        if password == '12345':\n",
    "            print(\"Welcome to Gmail after one attempt\")\n",
    "        else:\n",
    "            print(\"Your password is incorrect\")\n",
    "    else:\n",
    "        print(\"Enter correct credentials\")\n",
    "\n",
    "else:\n",
    "    print(\"Enter valid email address\") "
   ]
  },
  {
   "cell_type": "code",
   "execution_count": 9,
   "metadata": {},
   "outputs": [
    {
     "name": "stdout",
     "output_type": "stream",
     "text": [
      "Your electricity bill is: 5350\n"
     ]
    }
   ],
   "source": [
    "number_of_units = int(input(\"Enter the number of electricity units consumed: \"))\n",
    "if number_of_units < 150:\n",
    "    charge_per_unit = 15\n",
    "    fixed_charges = 250\n",
    "elif number_of_units > 150 and number_of_units < 250:\n",
    "    charge_per_unit = 25\n",
    "    fixed_charges = 350\n",
    "elif number_of_units > 250 and number_of_units < 350:\n",
    "    charge_per_unit = 35\n",
    "    fixed_charges = 450\n",
    "else:\n",
    "    charge_per_unit = 45\n",
    "    fixed_charges = 1000\n",
    "\n",
    "total_bill = (number_of_units * charge_per_unit) + fixed_charges\n",
    "print(\"Your electricity bill is:\", total_bill)\n"
   ]
  },
  {
   "cell_type": "code",
   "execution_count": 3,
   "metadata": {},
   "outputs": [
    {
     "name": "stdout",
     "output_type": "stream",
     "text": [
      "Division of 10.0 and 5.0 is: 2.0\n"
     ]
    }
   ],
   "source": [
    "option = input('''\n",
    "1- Addition\n",
    "2- Subtraction\n",
    "3- Multiplication\n",
    "4- Division    \n",
    "''')\n",
    "number1 = float(input('Enter your desired number:'))\n",
    "number2 = float(input('Enter your desired number:'))\n",
    "if option == '1':\n",
    "    print('Addition of', number1, 'and', number2, 'is:', number1+number2)\n",
    "elif option == '2':\n",
    "    print('Subtraction of', number1, 'and', number2, 'is:', number1-number2)\n",
    "elif option == '3':\n",
    "    print('Multiplication of', number1, 'and', number2, 'is:', number1*number2)\n",
    "elif option == '4':\n",
    "    print('Division of', number1, 'and', number2, 'is:', number1/number2)\n",
    "else:\n",
    "    print('Select number from given list')"
   ]
  },
  {
   "cell_type": "code",
   "execution_count": 5,
   "metadata": {},
   "outputs": [
    {
     "name": "stdout",
     "output_type": "stream",
     "text": [
      "We are learning Python\n",
      "We are learning Python\n",
      "We are learning Python\n",
      "We are learning Python\n",
      "We are learning Python\n",
      "We are learning Python\n",
      "We are learning Python\n",
      "We are learning Python\n",
      "We are learning Python\n",
      "We are learning Python\n",
      "We are learning Python\n",
      "We are learning Python\n",
      "We are learning Python\n",
      "We are learning Python\n",
      "We are learning Python\n",
      "We are learning Python\n",
      "We are learning Python\n",
      "We are learning Python\n",
      "We are learning Python\n",
      "We are learning Python\n",
      "We are learning Python\n",
      "We are learning Python\n",
      "We are learning Python\n",
      "We are learning Python\n",
      "We are learning Python\n",
      "We are learning Python\n",
      "We are learning Python\n",
      "We are learning Python\n",
      "We are learning Python\n",
      "We are learning Python\n",
      "We are learning Python\n",
      "We are learning Python\n",
      "We are learning Python\n",
      "We are learning Python\n",
      "We are learning Python\n",
      "We are learning Python\n",
      "We are learning Python\n",
      "We are learning Python\n",
      "We are learning Python\n",
      "We are learning Python\n",
      "We are learning Python\n",
      "We are learning Python\n",
      "We are learning Python\n",
      "We are learning Python\n",
      "We are learning Python\n",
      "We are learning Python\n",
      "We are learning Python\n",
      "We are learning Python\n",
      "We are learning Python\n",
      "We are learning Python\n",
      "We are learning Python\n",
      "We are learning Python\n",
      "We are learning Python\n",
      "We are learning Python\n",
      "We are learning Python\n",
      "We are learning Python\n",
      "We are learning Python\n",
      "We are learning Python\n",
      "We are learning Python\n",
      "We are learning Python\n",
      "We are learning Python\n",
      "We are learning Python\n",
      "We are learning Python\n",
      "We are learning Python\n",
      "We are learning Python\n",
      "We are learning Python\n",
      "We are learning Python\n",
      "We are learning Python\n",
      "We are learning Python\n",
      "We are learning Python\n",
      "We are learning Python\n",
      "We are learning Python\n",
      "We are learning Python\n",
      "We are learning Python\n",
      "We are learning Python\n",
      "We are learning Python\n",
      "We are learning Python\n",
      "We are learning Python\n",
      "We are learning Python\n",
      "We are learning Python\n",
      "We are learning Python\n",
      "We are learning Python\n",
      "We are learning Python\n",
      "We are learning Python\n",
      "We are learning Python\n",
      "We are learning Python\n",
      "We are learning Python\n",
      "We are learning Python\n",
      "We are learning Python\n",
      "We are learning Python\n",
      "We are learning Python\n",
      "We are learning Python\n",
      "We are learning Python\n",
      "We are learning Python\n",
      "We are learning Python\n",
      "We are learning Python\n",
      "We are learning Python\n",
      "We are learning Python\n",
      "We are learning Python\n"
     ]
    }
   ],
   "source": [
    "i = 1\n",
    "while i<100:\n",
    "    print(\"We are learning Python\")\n",
    "    i+=1"
   ]
  },
  {
   "cell_type": "code",
   "execution_count": 7,
   "metadata": {},
   "outputs": [
    {
     "name": "stdout",
     "output_type": "stream",
     "text": [
      "3 * 1 = 3\n",
      "3 * 2 = 6\n",
      "3 * 3 = 9\n",
      "3 * 4 = 12\n",
      "3 * 5 = 15\n",
      "3 * 6 = 18\n",
      "3 * 7 = 21\n",
      "3 * 8 = 24\n",
      "3 * 9 = 27\n",
      "3 * 10 = 30\n"
     ]
    }
   ],
   "source": [
    "number = int(input(\"Enter your desired number\"))\n",
    "i = 1\n",
    "while i < 11:\n",
    "    print(number,\"*\",i,\"=\",number*i)\n",
    "    i+=1"
   ]
  },
  {
   "cell_type": "code",
   "execution_count": 8,
   "metadata": {},
   "outputs": [
    {
     "name": "stdout",
     "output_type": "stream",
     "text": [
      "1\n",
      "2\n",
      "3\n",
      "4\n",
      "5\n",
      "6\n",
      "7\n",
      "8\n",
      "9\n"
     ]
    }
   ],
   "source": [
    "i =1\n",
    "while i < 10:\n",
    "    print(i)\n",
    "    i+=1"
   ]
  },
  {
   "cell_type": "code",
   "execution_count": 9,
   "metadata": {},
   "outputs": [
    {
     "name": "stdout",
     "output_type": "stream",
     "text": [
      "1\n",
      "2\n",
      "3\n",
      "4\n",
      "5\n",
      "6\n",
      "7\n"
     ]
    }
   ],
   "source": [
    "i = 1\n",
    "while i <10:\n",
    "    print(i)\n",
    "    if i == 7:\n",
    "        break\n",
    "    i+=1"
   ]
  },
  {
   "cell_type": "code",
   "execution_count": 11,
   "metadata": {},
   "outputs": [
    {
     "name": "stdout",
     "output_type": "stream",
     "text": [
      "1\n",
      "2\n",
      "3\n",
      "4\n",
      "5\n",
      "6\n",
      "8\n",
      "9\n",
      "10\n"
     ]
    }
   ],
   "source": [
    "i = 0\n",
    "while i < 10:\n",
    "    i+=1\n",
    "    if i == 7:\n",
    "        continue\n",
    "    print(i)"
   ]
  },
  {
   "cell_type": "code",
   "execution_count": 15,
   "metadata": {},
   "outputs": [
    {
     "name": "stdout",
     "output_type": "stream",
     "text": [
      "20\n",
      "30\n",
      "40\n",
      "60\n",
      "70\n",
      "80\n"
     ]
    }
   ],
   "source": [
    "num = 10\n",
    "while num < 100:\n",
    "    num = num + 10\n",
    "    if num == 50:\n",
    "        continue\n",
    "    if num == 90:\n",
    "        break\n",
    "    print(num)"
   ]
  }
 ],
 "metadata": {
  "kernelspec": {
   "display_name": "Python 3",
   "language": "python",
   "name": "python3"
  },
  "language_info": {
   "codemirror_mode": {
    "name": "ipython",
    "version": 3
   },
   "file_extension": ".py",
   "mimetype": "text/x-python",
   "name": "python",
   "nbconvert_exporter": "python",
   "pygments_lexer": "ipython3",
   "version": "3.8.8"
  }
 },
 "nbformat": 4,
 "nbformat_minor": 2
}
