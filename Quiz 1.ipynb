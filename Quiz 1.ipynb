{
 "cells": [
  {
   "cell_type": "code",
   "execution_count": null,
   "metadata": {},
   "outputs": [],
   "source": [
    "MCQS:\n",
    "QS1: b\n",
    "QS2: b\n",
    "QS3: b\n",
    "QS4: b\n",
    "QS5: None of them is correct\n",
    "QS6: c\n",
    "QS7: Mutable means it can be changed but immutable cannot be changed. For example: Lists are mutable wheeras tuple is immutable."
   ]
  },
  {
   "cell_type": "code",
   "execution_count": 18,
   "metadata": {},
   "outputs": [
    {
     "name": "stdout",
     "output_type": "stream",
     "text": [
      "Sorted Ages: [19, 19, 19, 20, 22, 24, 24, 24, 25, 25, 26, 26]\n",
      "Minimum Age: 19\n",
      "Maximum Age: 26\n",
      "Median Age: 24.0\n",
      "Average Age: 22.75\n",
      "Range of Ages: 7\n"
     ]
    }
   ],
   "source": [
    "ages = [19, 22, 19, 24, 20, 25, 26, 24, 25, 24]\n",
    "\n",
    "ages.sort()\n",
    "\n",
    "min_age = min(ages)\n",
    "max_age = max(ages)\n",
    "\n",
    "ages.append(min_age)\n",
    "ages.append(max_age)\n",
    "\n",
    "ages.sort()\n",
    "\n",
    "n = len(ages)\n",
    "median_age = (ages[n//2 - 1] + ages[n//2]) / 2 \n",
    "\n",
    "average_age = sum(ages) / len(ages)\n",
    "\n",
    "age_range = max_age - min_age\n",
    "\n",
    "print(\"Sorted Ages:\", ages)\n",
    "print(\"Minimum Age:\", min_age)\n",
    "print(\"Maximum Age:\", max_age)\n",
    "print(\"Median Age:\", median_age)\n",
    "print(\"Average Age:\", average_age)\n",
    "print(\"Range of Ages:\", age_range)"
   ]
  },
  {
   "cell_type": "code",
   "execution_count": 16,
   "metadata": {},
   "outputs": [
    {
     "name": "stdout",
     "output_type": "stream",
     "text": [
      "Empty Tuple: ()\n",
      "Siblings: ('Alena', 'Eman', 'Bilal', 'Umar')\n",
      "Number of Siblings: 4\n",
      "Family Members: ('Alena', 'Eman', 'Bilal', 'Umar', 'Haris', 'Tania')\n",
      "Unpacked Siblings: ('Alena', 'Eman', 'Bilal', 'Umar')\n",
      "Father: Haris\n",
      "Mother: Tania\n"
     ]
    }
   ],
   "source": [
    "empty_tuple = ()\n",
    "\n",
    "sisters = (\"Alena\", \"Eman\")\n",
    "brothers = (\"Bilal\", \"Umar\")\n",
    "\n",
    "siblings = sisters + brothers\n",
    "\n",
    "number_of_siblings = len(siblings)\n",
    "\n",
    "parents = (\"Haris\", \"Tania\")\n",
    "family_members = siblings + parents\n",
    "\n",
    "siblings_unpack = family_members[:-2]  \n",
    "father, mother = family_members[-2], family_members[-1]  \n",
    "\n",
    "print(\"Empty Tuple:\", empty_tuple)\n",
    "print(\"Siblings:\", siblings)\n",
    "print(\"Number of Siblings:\", number_of_siblings)\n",
    "print(\"Family Members:\", family_members)\n",
    "print(\"Unpacked Siblings:\", siblings_unpack)\n",
    "print(\"Father:\", father)\n",
    "print(\"Mother:\", mother)"
   ]
  }
 ],
 "metadata": {
  "kernelspec": {
   "display_name": "Python 3",
   "language": "python",
   "name": "python3"
  },
  "language_info": {
   "codemirror_mode": {
    "name": "ipython",
    "version": 3
   },
   "file_extension": ".py",
   "mimetype": "text/x-python",
   "name": "python",
   "nbconvert_exporter": "python",
   "pygments_lexer": "ipython3",
   "version": "3.8.8"
  }
 },
 "nbformat": 4,
 "nbformat_minor": 2
}
