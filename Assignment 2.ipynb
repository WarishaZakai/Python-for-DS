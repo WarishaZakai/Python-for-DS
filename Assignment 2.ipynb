{
 "cells": [
  {
   "cell_type": "code",
   "execution_count": 84,
   "metadata": {},
   "outputs": [
    {
     "name": "stdout",
     "output_type": "stream",
     "text": [
      "list =  []\n",
      "fruits =  ['mango', 'banana', 'orange', 'kiwi', 'apple', 'papaya', 'strawberry']\n",
      "Length of fruits list =  7\n",
      "The first, middle and last items are:  ['mango', 'kiwi', 'strawberry']\n",
      "mixed_data_type =  ['Warisha', 23, '62 inches', 'Single', 'Karachi']\n"
     ]
    }
   ],
   "source": [
    "#LIST:\n",
    "\n",
    "list = []   #1\n",
    "print('list = ', list)\n",
    "\n",
    "fruits = ['mango', 'banana', 'orange', 'kiwi', 'apple', 'papaya', 'strawberry']        #2\n",
    "print('fruits = ', fruits)\n",
    "\n",
    "print('Length of fruits list = ',(len(fruits)))     #3\n",
    "\n",
    "print('The first, middle and last items are: ', (fruits[0:8:3]))     #4\n",
    "\n",
    "mixed_data_types = ['Warisha', 23, '62 inches' , 'Single', 'Karachi']    #5\n",
    "print('mixed_data_type = ', mixed_data_types)\n"
   ]
  },
  {
   "cell_type": "code",
   "execution_count": 6,
   "metadata": {},
   "outputs": [
    {
     "name": "stdout",
     "output_type": "stream",
     "text": [
      "IT_companies =  ['Facebook', 'Google', 'Microsoft', 'Apple', 'IBM', 'Oracle', 'Amazon']\n",
      "Number of companies =  7\n",
      "The first, middle and last company are:  ['Facebook', 'Apple', 'Amazon']\n",
      "IT_companies =  ['Facebook', 'Google', 'Microsoft', 'Apple Inc.', 'IBM', 'Oracle', 'Amazon']\n",
      "IT_companies =  ['Facebook', 'Google', 'Microsoft', 'Apple Inc.', 'IBM', 'Oracle', 'Amazon', 'Tesla']\n",
      "IT_companies =  ['Facebook', 'Google', 'Microsoft', 'Apple Inc.', 'Nvidia', 'IBM', 'Oracle', 'Amazon', 'Tesla']\n",
      "IT_companies =  ['FACEBOOK', 'Google', 'Microsoft', 'Apple Inc.', 'Nvidia', 'IBM', 'Oracle', 'Amazon', 'Tesla']\n",
      "IT_companies =  ['Amazon', 'Apple Inc.', 'FACEBOOK', 'Google', 'IBM', 'Microsoft', 'Nvidia', 'Oracle', 'Tesla']\n",
      "IT_comapnies =  ['Tesla', 'Oracle', 'Nvidia', 'Microsoft', 'IBM', 'Google', 'FACEBOOK', 'Apple Inc.', 'Amazon']\n",
      "The first 3 companies are:  ['Tesla', 'Oracle', 'Nvidia']\n",
      "The last 3 companies are:  ['FACEBOOK', 'Apple Inc.', 'Amazon']\n",
      "The middle IT company is:  IBM\n",
      "IT_companies =  ['Oracle', 'Nvidia', 'Microsoft', 'IBM', 'Google', 'FACEBOOK', 'Apple Inc.', 'Amazon']\n",
      "IT_companies =  ['Oracle', 'Nvidia', 'Microsoft', 'FACEBOOK', 'Apple Inc.', 'Amazon']\n",
      "IT_companies =  ['Oracle', 'Nvidia', 'Microsoft', 'FACEBOOK', 'Apple Inc.']\n",
      "IT_companies =  []\n"
     ]
    }
   ],
   "source": [
    "IT_companies = ['Facebook', 'Google','Microsoft', 'Apple', 'IBM', 'Oracle', 'Amazon']        #6\n",
    "print('IT_companies = ', IT_companies)\n",
    "print('Number of companies = ', (len(IT_companies)))\n",
    "\n",
    "print('The first, middle and last company are: ', (IT_companies[0:8:3]))       #7\n",
    "\n",
    "IT_companies[3] = 'Apple Inc.'   #8\n",
    "print('IT_companies = ', IT_companies)\n",
    "\n",
    "IT_companies.append('Tesla')     #9\n",
    "print('IT_companies = ', IT_companies)\n",
    "\n",
    "IT_companies.insert(4, 'Nvidia')  #10\n",
    "print('IT_companies = ', IT_companies)\n",
    "\n",
    "IT_companies[0] = IT_companies[0].upper()     #11\n",
    "print('IT_companies = ', IT_companies)\n",
    "\n",
    "IT_companies.sort()       #12\n",
    "print('IT_companies = ', IT_companies)\n",
    "\n",
    "IT_companies.reverse()    #13\n",
    "print('IT_companies = ', IT_companies)\n",
    "\n",
    "print('The first 3 companies are: ', (IT_companies[0:3]))  #14\n",
    "\n",
    "print('The last 3 companies are: ', (IT_companies[6:9]))   #15\n",
    "\n",
    "print('The middle IT company is: ', (IT_companies[4]))    #16\n",
    "\n",
    "IT_companies.pop(0)   #17\n",
    "print('IT_companies = ',IT_companies) \n",
    "\n",
    "IT_companies.remove('IBM')     #18\n",
    "IT_companies.remove('Google')\n",
    "print('IT_companies = ', IT_companies)\n",
    "\n",
    "IT_companies.pop(5)     #19\n",
    "print('IT_companies = ', IT_companies)\n",
    "\n",
    "IT_companies.clear()    #20\n",
    "print('IT_companies = ', IT_companies)\n",
    "\n",
    "del(IT_companies)       #21"
   ]
  },
  {
   "cell_type": "code",
   "execution_count": 88,
   "metadata": {},
   "outputs": [
    {
     "name": "stdout",
     "output_type": "stream",
     "text": [
      "front_end =  ['HTML', 'CSS', 'JS', 'React', 'Redux']\n",
      "back_end =  ['Node', 'Express', 'MongoDB']\n",
      "joined_list =  ['HTML', 'CSS', 'JS', 'React', 'Redux', 'Node', 'Express', 'MongoDB']\n",
      "full_stack =  ['HTML', 'CSS', 'JS', 'React', 'Redux', 'Python', 'SQL', 'Node', 'Express', 'MongoDB']\n"
     ]
    }
   ],
   "source": [
    "front_end = ['HTML', 'CSS', 'JS', 'React', 'Redux']     #22\n",
    "print('front_end = ', front_end)\n",
    "back_end = ['Node','Express', 'MongoDB']\n",
    "print('back_end = ', back_end)\n",
    "joined_list = front_end + back_end\n",
    "print('joined_list = ' , joined_list)\n",
    "\n",
    "full_stack = joined_list.copy()   #24\n",
    "full_stack.insert(5, 'Python')    \n",
    "full_stack.insert(6, 'SQL')\n",
    "print('full_stack = ', full_stack)\n"
   ]
  },
  {
   "cell_type": "code",
   "execution_count": 89,
   "metadata": {},
   "outputs": [
    {
     "name": "stdout",
     "output_type": "stream",
     "text": [
      "ages =  [19, 22, 19, 24, 20, 25, 26, 24, 25, 24]\n",
      "ages =  [19, 19, 20, 22, 24, 24, 24, 25, 25, 26]\n",
      "Minimum Age: 19\n",
      "Maximum Age: 26\n",
      "ages =  [19, 19, 20, 22, 24, 24, 24, 25, 25, 26, 19, 26]\n",
      "Median Age: 24.0\n",
      "Average Age: 22.75\n",
      "Range of Ages: 7\n",
      "Absolute difference (min - average): 3.75\n",
      "Absolute difference (max - average): 3.25\n"
     ]
    }
   ],
   "source": [
    "ages = [19, 22, 19, 24, 20, 25, 26, 24, 25, 24]     #26\n",
    "print('ages = ', ages)\n",
    "\n",
    "ages.sort()   #27\n",
    "print('ages = ', ages)\n",
    "min_age = min(ages)\n",
    "print(\"Minimum Age:\", min_age)\n",
    "max_age = max(ages)\n",
    "print(\"Maximum Age:\", max_age)\n",
    "\n",
    "ages.append(min_age)    #28\n",
    "ages.append(max_age)\n",
    "print('ages = ', ages)\n",
    " \n",
    "n = len(ages)     #29\n",
    "median_age = (ages[n//2 - 1] + ages[n//2]) / 2 \n",
    "print(\"Median Age:\", median_age)\n",
    "\n",
    "average_age = sum(ages) / len(ages)    #30\n",
    "print(\"Average Age:\", average_age)\n",
    "\n",
    "age_range = max_age - min_age  #31\n",
    "print(\"Range of Ages:\", age_range)\n",
    "\n",
    "min_minus_average = abs(min_age - average_age)   #32\n",
    "max_minus_average = abs(max_age - average_age)\n",
    "print(\"Absolute difference (min - average):\", min_minus_average)\n",
    "print(\"Absolute difference (max - average):\", max_minus_average)"
   ]
  },
  {
   "cell_type": "code",
   "execution_count": 93,
   "metadata": {},
   "outputs": [
    {
     "name": "stdout",
     "output_type": "stream",
     "text": [
      "countires =  ['China', 'Russia', 'USA', 'Finland', 'Sweden', 'Norway', 'Denmark']\n",
      "The middle country is:  Finland\n",
      "first_half =  ['China', 'Russia', 'USA', 'Finland', 'Sweden']\n",
      "second_half =  ['Sweden', 'Norway', 'Denmark']\n",
      "first_country =  China\n",
      "second_country =  Russia\n",
      "third_country =  USA\n",
      "scandic_countries =  ['Finland', 'Sweden', 'Norway', 'Denmark']\n"
     ]
    }
   ],
   "source": [
    "countries = ['China', 'Russia', 'USA', 'Finland', 'Sweden', 'Norway', 'Denmark']   #33\n",
    "print('countires = ', countries)\n",
    "print('The middle country is: ',countries[3])\n",
    "\n",
    "first_half = countries[0:5]     #34\n",
    "print('first_half = ', first_half)\n",
    "second_half = countries[4:7]\n",
    "print('second_half = ', second_half)\n",
    "\n",
    "first_country, second_country, third_country, *scandic_countries = ['China', 'Russia', 'USA', 'Finland', 'Sweden', 'Norway', 'Denmark']     #35\n",
    "print('first_country = ', first_country) \n",
    "print('second_country = ', second_country)\n",
    "print('third_country = ', third_country)\n",
    "print('scandic_countries = ', scandic_countries)"
   ]
  },
  {
   "cell_type": "code",
   "execution_count": 1,
   "metadata": {},
   "outputs": [
    {
     "name": "stdout",
     "output_type": "stream",
     "text": [
      "tuple =  ()\n",
      "sisters =  ('Alena', 'Eman')\n",
      "brothers =  ('Bilal', 'Umar')\n",
      "siblings =  ('Alena', 'Eman', 'Bilal', 'Umar')\n",
      "Number of siblings =  4\n",
      "parents =  ('Haris', 'Tania')\n",
      "family_members =  ('Alena', 'Eman', 'Bilal', 'Umar', 'Haris', 'Tania')\n",
      "Unpacked Siblings:  ('Alena', 'Eman', 'Bilal', 'Umar')\n",
      "Father:  Haris\n",
      "Mother:  Tania\n"
     ]
    }
   ],
   "source": [
    "#TUPLE:\n",
    "\n",
    "tuple = ()   #1\n",
    "print('tuple = ', tuple)\n",
    "\n",
    "sisters = (\"Alena\", \"Eman\")   #2\n",
    "brothers = (\"Bilal\", \"Umar\")\n",
    "print('sisters = ', sisters)\n",
    "print('brothers = ', brothers)\n",
    "\n",
    "siblings = sisters + brothers   #3\n",
    "print('siblings = ', siblings)\n",
    "\n",
    "print('Number of siblings = ', (len(siblings)))     #4\n",
    "\n",
    "parents = (\"Haris\", \"Tania\")    #5\n",
    "print('parents = ', parents)\n",
    "family_members = siblings + parents\n",
    "print('family_members = ', family_members)\n",
    "\n",
    "siblings_unpack = family_members[0:-2]    #6\n",
    "father, mother = family_members[-2], family_members[-1]  \n",
    "print('Unpacked Siblings: ', siblings_unpack)\n",
    "print('Father: ', father)\n",
    "print('Mother: ', mother)\n"
   ]
  },
  {
   "cell_type": "code",
   "execution_count": 8,
   "metadata": {},
   "outputs": [
    {
     "name": "stdout",
     "output_type": "stream",
     "text": [
      "fruits=  ('apple', 'banana', 'cherry', 'date')\n",
      "vegetables =  ('carrot', 'broccoli', 'spinach', 'pepper')\n",
      "animal_products =  ('milk', 'cheese', 'egg', 'yogurt')\n",
      "food_stuff_tp =  ('apple', 'banana', 'cherry', 'date', 'carrot', 'broccoli', 'spinach', 'pepper', 'milk', 'cheese', 'egg', 'yogurt')\n",
      "food_stuff_lt =  ['apple', 'banana', 'cherry', 'date', 'carrot', 'broccoli', 'spinach', 'pepper', 'milk', 'cheese', 'egg', 'yogurt']\n",
      "The middle items are:  ['broccoli', 'spinach']\n",
      "The first three items are:  ['apple', 'banana', 'cherry']\n",
      "The last three items are:  ['cheese', 'egg', 'yogurt']\n"
     ]
    }
   ],
   "source": [
    "fruits = ('apple', 'banana', 'cherry', 'date')     #7\n",
    "print('fruits= ', fruits)\n",
    "vegetables = ('carrot', 'broccoli', 'spinach', 'pepper')\n",
    "print('vegetables = ', vegetables)\n",
    "animal_products = ('milk', 'cheese', 'egg', 'yogurt')\n",
    "print('animal_products = ', animal_products)\n",
    "food_stuff_tp = fruits + vegetables + animal_products\n",
    "print('food_stuff_tp = ', food_stuff_tp)\n",
    "\n",
    "food_stuff_lt = list(food_stuff_tp)     #8\n",
    "print('food_stuff_lt = ', food_stuff_lt)\n",
    "\n",
    "print('The middle items are: ', (food_stuff_lt[5:7]))    #9\n",
    "\n",
    "print('The first three items are: ', (food_stuff_lt[0:3]))      #10\n",
    "print('The last three items are: ', (food_stuff_lt[9:12]))\n",
    "\n",
    "del food_stuff_tp    #11"
   ]
  },
  {
   "cell_type": "code",
   "execution_count": 3,
   "metadata": {},
   "outputs": [
    {
     "name": "stdout",
     "output_type": "stream",
     "text": [
      "it_companies =  {'Facebook', 'Microsoft', 'Apple', 'Oracle', 'Amazon', 'IBM', 'Google'}\n",
      "Length of it_companies set =  7\n",
      "it_companies =  {'Twitter', 'Facebook', 'Microsoft', 'Apple', 'Oracle', 'Amazon', 'IBM', 'Google'}\n",
      "it_companies =  {'Twitter', 'Facebook', 'Microsoft', 'Apple', 'Oracle', 'Amazon', 'TSMC', 'IBM', 'Tesla', 'Nividia', 'Google'}\n",
      "it_companies =  {'Twitter', 'Facebook', 'Microsoft', 'Apple', 'Oracle', 'Amazon', 'TSMC', 'Tesla', 'Nividia', 'Google'}\n"
     ]
    }
   ],
   "source": [
    "#SET:\n",
    "\n",
    "it_companies = {'Facebook', 'Google', 'Microsoft', 'Apple', 'IBM', 'Oracle','Amazon'}     #1\n",
    "print('it_companies = ', it_companies)\n",
    "print('Length of it_companies set = ', (len(it_companies)))\n",
    "\n",
    "it_companies.add('Twitter')    #2\n",
    "print('it_companies = ', it_companies)\n",
    "\n",
    "new_companies = {'Tesla', 'Nividia', 'TSMC'}     #3\n",
    "it_companies.update(new_companies)    \n",
    "print('it_companies = ', it_companies)\n",
    "\n",
    "it_companies.remove('IBM')    #4\n",
    "print('it_companies = ', it_companies)\n",
    "\n",
    "#5\n",
    "The 'remove()' fuction removes a specified element from the set.If the specified element is not found in the set, it raises a 'KeyError'. Whereas, discard()\n",
    "function removes a specified element from the set. If the specified element is not found in the set, it does nothing and does not raise an error."
   ]
  },
  {
   "cell_type": "code",
   "execution_count": 4,
   "metadata": {},
   "outputs": [
    {
     "name": "stdout",
     "output_type": "stream",
     "text": [
      "A =  {19, 20, 22, 24, 25, 26}\n",
      "B =  {19, 20, 22, 24, 25, 26, 27, 28}\n",
      "joined_set =  {19, 20, 22, 24, 25, 26, 27, 28}\n",
      "intersection_set =  {19, 20, 22, 24, 25, 26}\n",
      "Is A subset of B:  True\n",
      "Are A and B disjoint sets:  False\n",
      "joined_A_B =  {19, 20, 22, 24, 25, 26, 27, 28}\n",
      "joined_B_A =  {19, 20, 22, 24, 25, 26, 27, 28}\n",
      "symmetric_difference =  {27, 28}\n"
     ]
    }
   ],
   "source": [
    "A = {19, 22, 24, 20, 25, 26}      #6\n",
    "print('A = ', A)\n",
    "B = {19, 22, 20, 25, 26, 24, 28, 27}\n",
    "print('B = ', B)\n",
    "joined_set = A.union(B)\n",
    "print('joined_set = ', joined_set)\n",
    "\n",
    "intersection_set = A.intersection(B)      #7\n",
    "print('intersection_set = ', intersection_set)\n",
    "\n",
    "subset = A.issubset(B)     #8\n",
    "print('Is A subset of B: ', subset)\n",
    "\n",
    "disjoint = A.isdisjoint(B)    #9\n",
    "print('Are A and B disjoint sets: ', disjoint)\n",
    "\n",
    "joined_A_B = A.union(B)   #10\n",
    "joined_B_A = B.union(A)\n",
    "print('joined_A_B = ', joined_A_B)\n",
    "print('joined_B_A = ', joined_B_A)\n",
    "\n",
    "symmetric_difference = A.symmetric_difference(B)    #11\n",
    "print('symmetric_difference = ', symmetric_difference)\n",
    "\n",
    "del A     #12\n",
    "del B"
   ]
  },
  {
   "cell_type": "code",
   "execution_count": 5,
   "metadata": {},
   "outputs": [
    {
     "name": "stdout",
     "output_type": "stream",
     "text": [
      "age =  [22, 19, 24, 25, 26, 24, 25, 24]\n",
      "age_set =  {19, 22, 24, 25, 26}\n",
      "length_of_list =  8\n",
      "length_of_set =  5\n",
      "The list is bigger.\n"
     ]
    }
   ],
   "source": [
    "age = [22, 19, 24, 25, 26, 24, 25, 24]     #13\n",
    "print('age = ', age)\n",
    "age_set = set(age)\n",
    "print('age_set = ', age_set)\n",
    "length_of_list = len(age)\n",
    "print('length_of_list = ', length_of_list)\n",
    "length_of_set = len(age_set)\n",
    "print('length_of_set = ', length_of_set)\n",
    "if length_of_list > length_of_set:\n",
    "    print(\"The list is bigger.\")\n",
    "elif length_of_list < length_of_set:\n",
    "    print(\"The set is bigger.\")\n",
    "else:\n",
    "    print(\"Both have the same length.\")\n",
    "\n",
    "#14\n",
    "Mutability: Strings and tuples are immutable; lists and sets are mutable.\n",
    "Order: Lists and tuples maintain the order of elements; sets do not.\n",
    "Duplicates: Lists and tuples can contain duplicates; sets automatically remove duplicates.\n",
    "Use Cases: Strings are for text, lists for ordered collections, tuples for fixed collections, and sets for unique collections and set operations."
   ]
  }
 ],
 "metadata": {
  "kernelspec": {
   "display_name": "Python 3",
   "language": "python",
   "name": "python3"
  },
  "language_info": {
   "codemirror_mode": {
    "name": "ipython",
    "version": 3
   },
   "file_extension": ".py",
   "mimetype": "text/x-python",
   "name": "python",
   "nbconvert_exporter": "python",
   "pygments_lexer": "ipython3",
   "version": "3.8.8"
  }
 },
 "nbformat": 4,
 "nbformat_minor": 2
}
